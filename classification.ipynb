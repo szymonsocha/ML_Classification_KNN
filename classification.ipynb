{
 "cells": [
  {
   "cell_type": "markdown",
   "metadata": {},
   "source": [
    "# Machine Learning 1 - Classification project"
   ]
  },
  {
   "cell_type": "markdown",
   "metadata": {},
   "source": [
    "Classification in machine learning is a common problem of putting data instances into groups (binary, multi-class or multi-label) based on their characteristics. It can be used in many real world business problem like credit risk, fraud detection, disease prediction. Based on historical data and given 'target' variable, classifiers find patterns and are able to adapt those patterns to new data. The main goal of classification in machine is to obtain the most accurate prediction as possible. The accuracy can be measured with a couple of metrics like ROC-AUC curve, F1 score, Confusion Matrix et. al. As a metric for this project I will use the <b>balanced accuracy</b>.<br>\n",
    "The main task of this project is to apply various ML algorithms to build a model explaining whether a particular person consumed cocaine in the last month based on the training sample and generate predictions for all observations from the test sample."
   ]
  },
  {
   "cell_type": "markdown",
   "metadata": {},
   "source": [
    "# Import libraries"
   ]
  },
  {
   "cell_type": "markdown",
   "metadata": {},
   "source": [
    "Let's begin with importing all necessary libraries"
   ]
  },
  {
   "cell_type": "code",
   "execution_count": 3,
   "metadata": {},
   "outputs": [],
   "source": [
    "import numpy as np\n",
    "import pandas as pd\n",
    "import matplotlib.pyplot as plt\n",
    "import seaborn as sns\n",
    "\n",
    "from sklearn.linear_model import LogisticRegression\n",
    "from sklearn.svm import SVC\n",
    "from sklearn.neighbors import KNeighborsClassifier\n",
    "from sklearn.tree import DecisionTreeClassifier\n",
    "from sklearn.ensemble import RandomForestClassifier\n",
    "from sklearn.metrics import precision_score, recall_score, f1_score, roc_auc_score, accuracy_score, classification_report, roc_curve, auc, balanced_accuracy_score\n",
    "from sklearn.model_selection import train_test_split, RandomizedSearchCV, KFold, StratifiedKFold\n",
    "from sklearn.pipeline import make_pipeline\n",
    "\n",
    "import collections\n",
    "from collections import Counter\n",
    "\n",
    "from imblearn.pipeline import make_pipeline as make_pipeline\n",
    "from imblearn.combine import SMOTETomek\n",
    "from imblearn.under_sampling import TomekLinks\n",
    "from imblearn.metrics import classification_report_imbalanced\n",
    "import warnings\n",
    "warnings.filterwarnings(\"ignore\")"
   ]
  },
  {
   "cell_type": "markdown",
   "metadata": {},
   "source": [
    "# Data preparation"
   ]
  },
  {
   "cell_type": "markdown",
   "metadata": {},
   "source": [
    "Import training dataset csv file"
   ]
  },
  {
   "cell_type": "code",
   "execution_count": 182,
   "metadata": {
    "scrolled": true
   },
   "outputs": [
    {
     "data": {
      "text/html": [
       "<div>\n",
       "<style scoped>\n",
       "    .dataframe tbody tr th:only-of-type {\n",
       "        vertical-align: middle;\n",
       "    }\n",
       "\n",
       "    .dataframe tbody tr th {\n",
       "        vertical-align: top;\n",
       "    }\n",
       "\n",
       "    .dataframe thead th {\n",
       "        text-align: right;\n",
       "    }\n",
       "</style>\n",
       "<table border=\"1\" class=\"dataframe\">\n",
       "  <thead>\n",
       "    <tr style=\"text-align: right;\">\n",
       "      <th></th>\n",
       "      <th>id</th>\n",
       "      <th>age</th>\n",
       "      <th>gender</th>\n",
       "      <th>education</th>\n",
       "      <th>country</th>\n",
       "      <th>ethnicity</th>\n",
       "      <th>personality_neuroticism</th>\n",
       "      <th>personality_extraversion</th>\n",
       "      <th>personality_openness</th>\n",
       "      <th>personality_agreeableness</th>\n",
       "      <th>...</th>\n",
       "      <th>personality_impulsiveness</th>\n",
       "      <th>personality_sensation</th>\n",
       "      <th>consumption_alcohol</th>\n",
       "      <th>consumption_amphetamines</th>\n",
       "      <th>consumption_caffeine</th>\n",
       "      <th>consumption_cannabis</th>\n",
       "      <th>consumption_chocolate</th>\n",
       "      <th>consumption_mushrooms</th>\n",
       "      <th>consumption_nicotine</th>\n",
       "      <th>consumption_cocaine_last_month</th>\n",
       "    </tr>\n",
       "  </thead>\n",
       "  <tbody>\n",
       "    <tr>\n",
       "      <th>0</th>\n",
       "      <td>train_0001</td>\n",
       "      <td>45-54</td>\n",
       "      <td>male</td>\n",
       "      <td>Masters degree</td>\n",
       "      <td>USA</td>\n",
       "      <td>Mixed-Black/Asian</td>\n",
       "      <td>57.6</td>\n",
       "      <td>57.3</td>\n",
       "      <td>50.1</td>\n",
       "      <td>47.8</td>\n",
       "      <td>...</td>\n",
       "      <td>42.8</td>\n",
       "      <td>22.4</td>\n",
       "      <td>used in last week</td>\n",
       "      <td>used over a decade ago</td>\n",
       "      <td>used in last day</td>\n",
       "      <td>used in last week</td>\n",
       "      <td>used in last day</td>\n",
       "      <td>never used</td>\n",
       "      <td>used in last week</td>\n",
       "      <td>No</td>\n",
       "    </tr>\n",
       "    <tr>\n",
       "      <th>1</th>\n",
       "      <td>train_0002</td>\n",
       "      <td>25-34</td>\n",
       "      <td>male</td>\n",
       "      <td>University degree</td>\n",
       "      <td>USA</td>\n",
       "      <td>Mixed-Black/Asian</td>\n",
       "      <td>47.8</td>\n",
       "      <td>67.0</td>\n",
       "      <td>45.7</td>\n",
       "      <td>47.8</td>\n",
       "      <td>...</td>\n",
       "      <td>33.8</td>\n",
       "      <td>30.8</td>\n",
       "      <td>used in last week</td>\n",
       "      <td>never used</td>\n",
       "      <td>used in last week</td>\n",
       "      <td>never used</td>\n",
       "      <td>used in last day</td>\n",
       "      <td>never used</td>\n",
       "      <td>never used</td>\n",
       "      <td>No</td>\n",
       "    </tr>\n",
       "    <tr>\n",
       "      <th>2</th>\n",
       "      <td>train_0003</td>\n",
       "      <td>18-24</td>\n",
       "      <td>female</td>\n",
       "      <td>University degree</td>\n",
       "      <td>USA</td>\n",
       "      <td>Mixed-Black/Asian</td>\n",
       "      <td>57.6</td>\n",
       "      <td>43.3</td>\n",
       "      <td>55.3</td>\n",
       "      <td>45.6</td>\n",
       "      <td>...</td>\n",
       "      <td>63.0</td>\n",
       "      <td>62.0</td>\n",
       "      <td>used in last month</td>\n",
       "      <td>never used</td>\n",
       "      <td>used in last day</td>\n",
       "      <td>used in last week</td>\n",
       "      <td>used in last week</td>\n",
       "      <td>used in last year</td>\n",
       "      <td>used in last month</td>\n",
       "      <td>No</td>\n",
       "    </tr>\n",
       "    <tr>\n",
       "      <th>3</th>\n",
       "      <td>train_0004</td>\n",
       "      <td>25-34</td>\n",
       "      <td>female</td>\n",
       "      <td>Masters degree</td>\n",
       "      <td>USA</td>\n",
       "      <td>Mixed-Black/Asian</td>\n",
       "      <td>71.8</td>\n",
       "      <td>31.2</td>\n",
       "      <td>43.6</td>\n",
       "      <td>56.3</td>\n",
       "      <td>...</td>\n",
       "      <td>63.0</td>\n",
       "      <td>71.1</td>\n",
       "      <td>used in last day</td>\n",
       "      <td>never used</td>\n",
       "      <td>used in last day</td>\n",
       "      <td>used in last decade</td>\n",
       "      <td>used in last day</td>\n",
       "      <td>never used</td>\n",
       "      <td>used in last decade</td>\n",
       "      <td>No</td>\n",
       "    </tr>\n",
       "    <tr>\n",
       "      <th>4</th>\n",
       "      <td>train_0005</td>\n",
       "      <td>18-24</td>\n",
       "      <td>male</td>\n",
       "      <td>Some college or university, no certificate or ...</td>\n",
       "      <td>Australia</td>\n",
       "      <td>Mixed-Black/Asian</td>\n",
       "      <td>56.1</td>\n",
       "      <td>62.3</td>\n",
       "      <td>70.2</td>\n",
       "      <td>66.1</td>\n",
       "      <td>...</td>\n",
       "      <td>50.4</td>\n",
       "      <td>62.0</td>\n",
       "      <td>used in last week</td>\n",
       "      <td>never used</td>\n",
       "      <td>used in last month</td>\n",
       "      <td>used in last month</td>\n",
       "      <td>used in last day</td>\n",
       "      <td>used in last year</td>\n",
       "      <td>used in last month</td>\n",
       "      <td>No</td>\n",
       "    </tr>\n",
       "  </tbody>\n",
       "</table>\n",
       "<p>5 rows × 21 columns</p>\n",
       "</div>"
      ],
      "text/plain": [
       "           id    age  gender  \\\n",
       "0  train_0001  45-54    male   \n",
       "1  train_0002  25-34    male   \n",
       "2  train_0003  18-24  female   \n",
       "3  train_0004  25-34  female   \n",
       "4  train_0005  18-24    male   \n",
       "\n",
       "                                           education    country  \\\n",
       "0                                     Masters degree        USA   \n",
       "1                                  University degree        USA   \n",
       "2                                  University degree        USA   \n",
       "3                                     Masters degree        USA   \n",
       "4  Some college or university, no certificate or ...  Australia   \n",
       "\n",
       "           ethnicity  personality_neuroticism  personality_extraversion  \\\n",
       "0  Mixed-Black/Asian                     57.6                      57.3   \n",
       "1  Mixed-Black/Asian                     47.8                      67.0   \n",
       "2  Mixed-Black/Asian                     57.6                      43.3   \n",
       "3  Mixed-Black/Asian                     71.8                      31.2   \n",
       "4  Mixed-Black/Asian                     56.1                      62.3   \n",
       "\n",
       "   personality_openness  personality_agreeableness  ...  \\\n",
       "0                  50.1                       47.8  ...   \n",
       "1                  45.7                       47.8  ...   \n",
       "2                  55.3                       45.6  ...   \n",
       "3                  43.6                       56.3  ...   \n",
       "4                  70.2                       66.1  ...   \n",
       "\n",
       "   personality_impulsiveness  personality_sensation  consumption_alcohol  \\\n",
       "0                       42.8                   22.4    used in last week   \n",
       "1                       33.8                   30.8    used in last week   \n",
       "2                       63.0                   62.0   used in last month   \n",
       "3                       63.0                   71.1     used in last day   \n",
       "4                       50.4                   62.0    used in last week   \n",
       "\n",
       "  consumption_amphetamines consumption_caffeine consumption_cannabis  \\\n",
       "0   used over a decade ago     used in last day    used in last week   \n",
       "1               never used    used in last week           never used   \n",
       "2               never used     used in last day    used in last week   \n",
       "3               never used     used in last day  used in last decade   \n",
       "4               never used   used in last month   used in last month   \n",
       "\n",
       "  consumption_chocolate consumption_mushrooms consumption_nicotine  \\\n",
       "0      used in last day            never used    used in last week   \n",
       "1      used in last day            never used           never used   \n",
       "2     used in last week     used in last year   used in last month   \n",
       "3      used in last day            never used  used in last decade   \n",
       "4      used in last day     used in last year   used in last month   \n",
       "\n",
       "  consumption_cocaine_last_month  \n",
       "0                             No  \n",
       "1                             No  \n",
       "2                             No  \n",
       "3                             No  \n",
       "4                             No  \n",
       "\n",
       "[5 rows x 21 columns]"
      ]
     },
     "execution_count": 182,
     "metadata": {},
     "output_type": "execute_result"
    }
   ],
   "source": [
    "df = pd.read_csv(\"data/drugs_train.csv\")\n",
    "df.head()"
   ]
  },
  {
   "cell_type": "markdown",
   "metadata": {},
   "source": [
    "The training dataset contaings of 21 variables and 1500 observations. "
   ]
  },
  {
   "cell_type": "markdown",
   "metadata": {},
   "source": [
    "I am removing the id variable. This variable is unique for each row and does not add any information. I map the value of the dependent variable from Yes to 1 and from No to 0."
   ]
  },
  {
   "cell_type": "code",
   "execution_count": 183,
   "metadata": {},
   "outputs": [],
   "source": [
    "df.drop(columns=['id'], inplace = True)\n",
    "\n",
    "df['consumption_cocaine_last_month'] = df['consumption_cocaine_last_month'].map({'Yes': 1, 'No': 0})"
   ]
  },
  {
   "cell_type": "markdown",
   "metadata": {},
   "source": [
    "I check basic descriptive statistics to find outliers. I don't see anything alarming in the data that would indicate the existence of outliers."
   ]
  },
  {
   "cell_type": "code",
   "execution_count": 184,
   "metadata": {},
   "outputs": [
    {
     "data": {
      "text/html": [
       "<div>\n",
       "<style scoped>\n",
       "    .dataframe tbody tr th:only-of-type {\n",
       "        vertical-align: middle;\n",
       "    }\n",
       "\n",
       "    .dataframe tbody tr th {\n",
       "        vertical-align: top;\n",
       "    }\n",
       "\n",
       "    .dataframe thead th {\n",
       "        text-align: right;\n",
       "    }\n",
       "</style>\n",
       "<table border=\"1\" class=\"dataframe\">\n",
       "  <thead>\n",
       "    <tr style=\"text-align: right;\">\n",
       "      <th></th>\n",
       "      <th>personality_neuroticism</th>\n",
       "      <th>personality_extraversion</th>\n",
       "      <th>personality_openness</th>\n",
       "      <th>personality_agreeableness</th>\n",
       "      <th>personality_conscientiousness</th>\n",
       "      <th>personality_impulsiveness</th>\n",
       "      <th>personality_sensation</th>\n",
       "      <th>consumption_cocaine_last_month</th>\n",
       "    </tr>\n",
       "  </thead>\n",
       "  <tbody>\n",
       "    <tr>\n",
       "      <th>count</th>\n",
       "      <td>1500.000000</td>\n",
       "      <td>1500.000000</td>\n",
       "      <td>1500.000000</td>\n",
       "      <td>1500.000000</td>\n",
       "      <td>1500.000000</td>\n",
       "      <td>1500.000000</td>\n",
       "      <td>1500.000000</td>\n",
       "      <td>1500.000000</td>\n",
       "    </tr>\n",
       "    <tr>\n",
       "      <th>mean</th>\n",
       "      <td>51.507267</td>\n",
       "      <td>50.053667</td>\n",
       "      <td>53.108667</td>\n",
       "      <td>49.966000</td>\n",
       "      <td>49.998800</td>\n",
       "      <td>46.972200</td>\n",
       "      <td>52.316333</td>\n",
       "      <td>0.084667</td>\n",
       "    </tr>\n",
       "    <tr>\n",
       "      <th>std</th>\n",
       "      <td>14.958815</td>\n",
       "      <td>15.200954</td>\n",
       "      <td>16.049880</td>\n",
       "      <td>14.340301</td>\n",
       "      <td>14.571548</td>\n",
       "      <td>17.361892</td>\n",
       "      <td>23.686221</td>\n",
       "      <td>0.278478</td>\n",
       "    </tr>\n",
       "    <tr>\n",
       "      <th>min</th>\n",
       "      <td>0.000000</td>\n",
       "      <td>0.000000</td>\n",
       "      <td>0.000000</td>\n",
       "      <td>0.000000</td>\n",
       "      <td>0.000000</td>\n",
       "      <td>0.000000</td>\n",
       "      <td>0.000000</td>\n",
       "      <td>0.000000</td>\n",
       "    </tr>\n",
       "    <tr>\n",
       "      <th>25%</th>\n",
       "      <td>41.300000</td>\n",
       "      <td>39.400000</td>\n",
       "      <td>41.400000</td>\n",
       "      <td>41.200000</td>\n",
       "      <td>40.600000</td>\n",
       "      <td>33.800000</td>\n",
       "      <td>38.800000</td>\n",
       "      <td>0.000000</td>\n",
       "    </tr>\n",
       "    <tr>\n",
       "      <th>50%</th>\n",
       "      <td>52.000000</td>\n",
       "      <td>50.100000</td>\n",
       "      <td>52.700000</td>\n",
       "      <td>49.800000</td>\n",
       "      <td>49.900000</td>\n",
       "      <td>42.800000</td>\n",
       "      <td>54.000000</td>\n",
       "      <td>0.000000</td>\n",
       "    </tr>\n",
       "    <tr>\n",
       "      <th>75%</th>\n",
       "      <td>60.800000</td>\n",
       "      <td>59.700000</td>\n",
       "      <td>64.700000</td>\n",
       "      <td>58.500000</td>\n",
       "      <td>58.400000</td>\n",
       "      <td>56.500000</td>\n",
       "      <td>71.100000</td>\n",
       "      <td>0.000000</td>\n",
       "    </tr>\n",
       "    <tr>\n",
       "      <th>max</th>\n",
       "      <td>100.000000</td>\n",
       "      <td>100.000000</td>\n",
       "      <td>100.000000</td>\n",
       "      <td>100.000000</td>\n",
       "      <td>100.000000</td>\n",
       "      <td>100.000000</td>\n",
       "      <td>100.000000</td>\n",
       "      <td>1.000000</td>\n",
       "    </tr>\n",
       "  </tbody>\n",
       "</table>\n",
       "</div>"
      ],
      "text/plain": [
       "       personality_neuroticism  personality_extraversion  \\\n",
       "count              1500.000000               1500.000000   \n",
       "mean                 51.507267                 50.053667   \n",
       "std                  14.958815                 15.200954   \n",
       "min                   0.000000                  0.000000   \n",
       "25%                  41.300000                 39.400000   \n",
       "50%                  52.000000                 50.100000   \n",
       "75%                  60.800000                 59.700000   \n",
       "max                 100.000000                100.000000   \n",
       "\n",
       "       personality_openness  personality_agreeableness  \\\n",
       "count           1500.000000                1500.000000   \n",
       "mean              53.108667                  49.966000   \n",
       "std               16.049880                  14.340301   \n",
       "min                0.000000                   0.000000   \n",
       "25%               41.400000                  41.200000   \n",
       "50%               52.700000                  49.800000   \n",
       "75%               64.700000                  58.500000   \n",
       "max              100.000000                 100.000000   \n",
       "\n",
       "       personality_conscientiousness  personality_impulsiveness  \\\n",
       "count                    1500.000000                1500.000000   \n",
       "mean                       49.998800                  46.972200   \n",
       "std                        14.571548                  17.361892   \n",
       "min                         0.000000                   0.000000   \n",
       "25%                        40.600000                  33.800000   \n",
       "50%                        49.900000                  42.800000   \n",
       "75%                        58.400000                  56.500000   \n",
       "max                       100.000000                 100.000000   \n",
       "\n",
       "       personality_sensation  consumption_cocaine_last_month  \n",
       "count            1500.000000                     1500.000000  \n",
       "mean               52.316333                        0.084667  \n",
       "std                23.686221                        0.278478  \n",
       "min                 0.000000                        0.000000  \n",
       "25%                38.800000                        0.000000  \n",
       "50%                54.000000                        0.000000  \n",
       "75%                71.100000                        0.000000  \n",
       "max               100.000000                        1.000000  "
      ]
     },
     "execution_count": 184,
     "metadata": {},
     "output_type": "execute_result"
    }
   ],
   "source": [
    "df.describe()"
   ]
  },
  {
   "cell_type": "markdown",
   "metadata": {},
   "source": [
    "Let's see what variables are in our dataset"
   ]
  },
  {
   "cell_type": "code",
   "execution_count": 185,
   "metadata": {},
   "outputs": [
    {
     "data": {
      "text/plain": [
       "Index(['age', 'gender', 'education', 'country', 'ethnicity',\n",
       "       'personality_neuroticism', 'personality_extraversion',\n",
       "       'personality_openness', 'personality_agreeableness',\n",
       "       'personality_conscientiousness', 'personality_impulsiveness',\n",
       "       'personality_sensation', 'consumption_alcohol',\n",
       "       'consumption_amphetamines', 'consumption_caffeine',\n",
       "       'consumption_cannabis', 'consumption_chocolate',\n",
       "       'consumption_mushrooms', 'consumption_nicotine',\n",
       "       'consumption_cocaine_last_month'],\n",
       "      dtype='object')"
      ]
     },
     "execution_count": 185,
     "metadata": {},
     "output_type": "execute_result"
    }
   ],
   "source": [
    "df.columns"
   ]
  },
  {
   "cell_type": "markdown",
   "metadata": {},
   "source": [
    "Let's look at the explained variable. Let's see what the distribution of 1 and 0 is. "
   ]
  },
  {
   "cell_type": "code",
   "execution_count": 186,
   "metadata": {},
   "outputs": [
    {
     "name": "stdout",
     "output_type": "stream",
     "text": [
      "No 91.53 % of the dataset\n",
      "Yes 8.47 % of the dataset\n"
     ]
    }
   ],
   "source": [
    "print('No', round(df['consumption_cocaine_last_month'].value_counts()[0]/len(df) * 100,2), '% of the dataset')\n",
    "print('Yes', round(df['consumption_cocaine_last_month'].value_counts()[1]/len(df) * 100,2), '% of the dataset')"
   ]
  },
  {
   "cell_type": "markdown",
   "metadata": {},
   "source": [
    "I see that only 8 per cent of observations are positive. So I have a problem with unbalanced data. It will be necessary to find a way to deal with this problem. Let's see it in the graph."
   ]
  },
  {
   "cell_type": "code",
   "execution_count": 187,
   "metadata": {
    "tags": []
   },
   "outputs": [
    {
     "data": {
      "text/plain": [
       "<AxesSubplot:xlabel='consumption_cocaine_last_month', ylabel='count'>"
      ]
     },
     "execution_count": 187,
     "metadata": {},
     "output_type": "execute_result"
    },
    {
     "data": {
      "image/png": "[encoded data removed]",
      "text/plain": [
       "<Figure size 432x288 with 1 Axes>"
      ]
     },
     "metadata": {
      "needs_background": "light"
     },
     "output_type": "display_data"
    }
   ],
   "source": [
    "sns.countplot('consumption_cocaine_last_month', data=df)"
   ]
  },
  {
   "cell_type": "markdown",
   "metadata": {},
   "source": [
    "The gender variable is balanced and does not need to be modified."
   ]
  },
  {
   "cell_type": "code",
   "execution_count": 188,
   "metadata": {},
   "outputs": [
    {
     "data": {
      "text/plain": [
       "<seaborn.axisgrid.FacetGrid at 0x18599bfb7f0>"
      ]
     },
     "execution_count": 188,
     "metadata": {},
     "output_type": "execute_result"
    },
    {
     "data": {
      "image/png": "[encoded data removed]",
      "text/plain": [
       "<Figure size 360x360 with 1 Axes>"
      ]
     },
     "metadata": {
      "needs_background": "light"
     },
     "output_type": "display_data"
    }
   ],
   "source": [
    "sns.catplot(x='gender', kind=\"count\", data=df)"
   ]
  },
  {
   "cell_type": "code",
   "execution_count": 189,
   "metadata": {},
   "outputs": [
    {
     "data": {
      "image/png": "[encoded data removed]",
      "text/plain": [
       "<Figure size 1872x360 with 1 Axes>"
      ]
     },
     "metadata": {
      "needs_background": "light"
     },
     "output_type": "display_data"
    }
   ],
   "source": [
    "sns.catplot(x='education', kind=\"count\", data=df)"
   ]
  },
  {
   "cell_type": "markdown",
   "metadata": {},
   "source": [
    "The `education` variable has some small-volume levels. I combine the three least frequent levels into one `Left school before 18 years`."
   ]
  },
  {
   "cell_type": "code",
   "execution_count": 190,
   "metadata": {},
   "outputs": [],
   "source": [
    "df.loc[df[\"education\"] == \"Left school at 17 years\", \"education\"] = \"Left school before 18 years\"\n",
    "df.loc[df[\"education\"] == \"Left school at 16 years\", \"education\"] = \"Left school before 18 years\"\n",
    "df.loc[df[\"education\"] == \"Left school before 16 years\", \"education\"] = \"Left school before 18 years\""
   ]
  },
  {
   "cell_type": "code",
   "execution_count": 191,
   "metadata": {},
   "outputs": [
    {
     "data": {
      "image/png": "[encoded data removed]",
      "text/plain": [
       "<Figure size 1080x360 with 1 Axes>"
      ]
     },
     "metadata": {
      "needs_background": "light"
     },
     "output_type": "display_data"
    }
   ],
   "source": [
    "sns.catplot(x='education', kind=\"count\", data=df)"
   ]
  },
  {
   "cell_type": "code",
   "execution_count": 192,
   "metadata": {},
   "outputs": [
    {
     "data": {
      "image/png": "[encoded data removed]",
      "text/plain": [
       "<Figure size 1440x360 with 1 Axes>"
      ]
     },
     "metadata": {
      "needs_background": "light"
     },
     "output_type": "display_data"
    }
   ],
   "source": [
    "sns.catplot(x='country', kind=\"count\", data=df)"
   ]
  },
  {
   "cell_type": "markdown",
   "metadata": {},
   "source": [
    "The `country` variable, as before, has few levels. I link it to `Other country`."
   ]
  },
  {
   "cell_type": "code",
   "execution_count": 193,
   "metadata": {},
   "outputs": [],
   "source": [
    "df.loc[df[\"country\"] == \"Canada\", \"country\"] = \"Other country\"\n",
    "df.loc[df[\"country\"] == \"Ireland\", \"country\"] = \"Other country\""
   ]
  },
  {
   "cell_type": "markdown",
   "metadata": {},
   "source": [
    "In the following variables (`ethnicity`, `consumption_alcohol`, `consumption_chocolate`, `consumption_mushrooms`, `consumption_nicotine`), I also observe low levels. In each case I proceed in the same way. By combining them into larger levels."
   ]
  },
  {
   "cell_type": "code",
   "execution_count": 194,
   "metadata": {},
   "outputs": [
    {
     "data": {
      "image/png": "[encoded data removed]",
      "text/plain": [
       "<Figure size 1440x360 with 1 Axes>"
      ]
     },
     "metadata": {
      "needs_background": "light"
     },
     "output_type": "display_data"
    }
   ],
   "source": [
    "sns.catplot(x='ethnicity', kind=\"count\", data=df)"
   ]
  },
  {
   "cell_type": "code",
   "execution_count": 195,
   "metadata": {},
   "outputs": [],
   "source": [
    "df.loc[df[\"ethnicity\"] == \"Asian\", \"ethnicity\"] = \"Other\"\n",
    "df.loc[df[\"ethnicity\"] == \"Black\", \"ethnicity\"] = \"Other\"\n",
    "df.loc[df[\"ethnicity\"] == \"Other\", \"ethnicity\"] = \"Other\"\n",
    "df.loc[df[\"ethnicity\"] == \"White\", \"ethnicity\"] = \"Other\"\n",
    "df.loc[df[\"ethnicity\"] == \"Mixed-White/Asian\", \"ethnicity\"] = \"Other\"\n",
    "df.loc[df[\"ethnicity\"] == \"Mixed-White/Black\", \"ethnicity\"] = \"Other\""
   ]
  },
  {
   "cell_type": "code",
   "execution_count": 196,
   "metadata": {},
   "outputs": [
    {
     "data": {
      "image/png": "[encoded data removed]",
      "text/plain": [
       "<Figure size 1440x360 with 1 Axes>"
      ]
     },
     "metadata": {
      "needs_background": "light"
     },
     "output_type": "display_data"
    }
   ],
   "source": [
    "sns.catplot(x='ethnicity', kind=\"count\", data=df)"
   ]
  },
  {
   "cell_type": "code",
   "execution_count": 197,
   "metadata": {},
   "outputs": [
    {
     "data": {
      "image/png": "[encoded data removed]",
      "text/plain": [
       "<Figure size 1440x360 with 1 Axes>"
      ]
     },
     "metadata": {
      "needs_background": "light"
     },
     "output_type": "display_data"
    }
   ],
   "source": [
    "sns.catplot(x='ethnicity', kind=\"count\", data=df)"
   ]
  },
  {
   "cell_type": "code",
   "execution_count": 198,
   "metadata": {},
   "outputs": [
    {
     "data": {
      "image/png": "[encoded data removed]",
      "text/plain": [
       "<Figure size 1440x360 with 1 Axes>"
      ]
     },
     "metadata": {
      "needs_background": "light"
     },
     "output_type": "display_data"
    }
   ],
   "source": [
    "sns.catplot(x='consumption_alcohol', kind=\"count\", data=df)"
   ]
  },
  {
   "cell_type": "code",
   "execution_count": 199,
   "metadata": {},
   "outputs": [],
   "source": [
    "df.loc[df[\"consumption_alcohol\"] == \"never used\", \"consumption_alcohol\"] = \"more than year ago\"\n",
    "df.loc[df[\"consumption_alcohol\"] == \"used in last decade\", \"consumption_alcohol\"] = \"more than year ago\"\n",
    "df.loc[df[\"consumption_alcohol\"] == \"used over a decade ago\", \"consumption_alcohol\"] = \"more than year ago\""
   ]
  },
  {
   "cell_type": "code",
   "execution_count": 200,
   "metadata": {},
   "outputs": [
    {
     "data": {
      "text/plain": [
       "<seaborn.axisgrid.FacetGrid at 0x18598a14d60>"
      ]
     },
     "execution_count": 200,
     "metadata": {},
     "output_type": "execute_result"
    },
    {
     "data": {
      "image/png": "[encoded data removed]",
      "text/plain": [
       "<Figure size 360x360 with 1 Axes>"
      ]
     },
     "metadata": {
      "needs_background": "light"
     },
     "output_type": "display_data"
    }
   ],
   "source": [
    "sns.catplot(x='consumption_amphetamines', kind=\"count\", data=df)"
   ]
  },
  {
   "cell_type": "code",
   "execution_count": 201,
   "metadata": {
    "tags": []
   },
   "outputs": [
    {
     "data": {
      "image/png": "[encoded data removed]",
      "text/plain": [
       "<Figure size 1440x360 with 1 Axes>"
      ]
     },
     "metadata": {
      "needs_background": "light"
     },
     "output_type": "display_data"
    }
   ],
   "source": [
    "sns.catplot(x='consumption_caffeine', kind=\"count\", data=df)"
   ]
  },
  {
   "cell_type": "code",
   "execution_count": 202,
   "metadata": {},
   "outputs": [],
   "source": [
    "df.loc[df[\"consumption_caffeine\"] == \"used in last decade\", \"consumption_caffeine\"] = \"more than month ago\"\n",
    "df.loc[df[\"consumption_caffeine\"] == \"used over a decade ago\", \"consumption_caffeine\"] = \"more than month ago\"\n",
    "df.loc[df[\"consumption_caffeine\"] == \"used in last year\", \"consumption_caffeine\"] = \"more than month ago\"\n",
    "df.loc[df[\"consumption_caffeine\"] == \"never used\", \"consumption_caffeine\"] = \"more than month ago\""
   ]
  },
  {
   "cell_type": "code",
   "execution_count": 203,
   "metadata": {},
   "outputs": [
    {
     "data": {
      "text/plain": [
       "<seaborn.axisgrid.FacetGrid at 0x1859c9d75e0>"
      ]
     },
     "execution_count": 203,
     "metadata": {},
     "output_type": "execute_result"
    },
    {
     "data": {
      "image/png": "[encoded data removed]",
      "text/plain": [
       "<Figure size 360x360 with 1 Axes>"
      ]
     },
     "metadata": {
      "needs_background": "light"
     },
     "output_type": "display_data"
    }
   ],
   "source": [
    "sns.catplot(x='consumption_caffeine', kind=\"count\", data=df)"
   ]
  },
  {
   "cell_type": "code",
   "execution_count": 204,
   "metadata": {},
   "outputs": [
    {
     "data": {
      "text/plain": [
       "<seaborn.axisgrid.FacetGrid at 0x18599057190>"
      ]
     },
     "execution_count": 204,
     "metadata": {},
     "output_type": "execute_result"
    },
    {
     "data": {
      "image/png": "[encoded data removed]",
      "text/plain": [
       "<Figure size 360x360 with 1 Axes>"
      ]
     },
     "metadata": {
      "needs_background": "light"
     },
     "output_type": "display_data"
    }
   ],
   "source": [
    "sns.catplot(x='consumption_cannabis', kind=\"count\", data=df)"
   ]
  },
  {
   "cell_type": "code",
   "execution_count": 205,
   "metadata": {},
   "outputs": [
    {
     "data": {
      "image/png": "[encoded data removed]",
      "text/plain": [
       "<Figure size 1440x360 with 1 Axes>"
      ]
     },
     "metadata": {
      "needs_background": "light"
     },
     "output_type": "display_data"
    }
   ],
   "source": [
    "sns.catplot(x='consumption_chocolate', kind=\"count\", data=df).fig.set_figwidth(20)"
   ]
  },
  {
   "cell_type": "code",
   "execution_count": 206,
   "metadata": {},
   "outputs": [],
   "source": [
    "df.loc[df[\"consumption_chocolate\"] == \"used in last decade\", \"consumption_chocolate\"] = \"more than month ago\"\n",
    "df.loc[df[\"consumption_chocolate\"] == \"used over a decade ago\", \"consumption_chocolate\"] = \"more than month ago\"\n",
    "df.loc[df[\"consumption_chocolate\"] == \"never used\", \"consumption_chocolate\"] = \"more than month ago\"\n",
    "df.loc[df[\"consumption_chocolate\"] == \"used in last year\", \"consumption_chocolate\"] = \"more than month ago\""
   ]
  },
  {
   "cell_type": "code",
   "execution_count": 207,
   "metadata": {},
   "outputs": [
    {
     "data": {
      "image/png": "[encoded data removed]",
      "text/plain": [
       "<Figure size 1440x360 with 1 Axes>"
      ]
     },
     "metadata": {
      "needs_background": "light"
     },
     "output_type": "display_data"
    }
   ],
   "source": [
    "sns.catplot(x='consumption_chocolate', kind=\"count\", data=df)"
   ]
  },
  {
   "cell_type": "code",
   "execution_count": 208,
   "metadata": {},
   "outputs": [
    {
     "data": {
      "image/png": "[encoded data removed]",
      "text/plain": [
       "<Figure size 1440x360 with 1 Axes>"
      ]
     },
     "metadata": {
      "needs_background": "light"
     },
     "output_type": "display_data"
    }
   ],
   "source": [
    "sns.catplot(x='consumption_chocolate', kind=\"count\", data=df)"
   ]
  },
  {
   "cell_type": "code",
   "execution_count": 209,
   "metadata": {},
   "outputs": [
    {
     "data": {
      "text/plain": [
       "<seaborn.axisgrid.FacetGrid at 0x18599052400>"
      ]
     },
     "execution_count": 209,
     "metadata": {},
     "output_type": "execute_result"
    },
    {
     "data": {
      "image/png": "[encoded data removed]",
      "text/plain": [
       "<Figure size 360x360 with 1 Axes>"
      ]
     },
     "metadata": {
      "needs_background": "light"
     },
     "output_type": "display_data"
    }
   ],
   "source": [
    "sns.catplot(x='consumption_chocolate', kind=\"count\", data=df)"
   ]
  },
  {
   "cell_type": "code",
   "execution_count": 210,
   "metadata": {},
   "outputs": [
    {
     "data": {
      "image/png": "[encoded data removed]",
      "text/plain": [
       "<Figure size 1440x360 with 1 Axes>"
      ]
     },
     "metadata": {
      "needs_background": "light"
     },
     "output_type": "display_data"
    }
   ],
   "source": [
    "sns.catplot(x='consumption_mushrooms', kind=\"count\", data=df)"
   ]
  },
  {
   "cell_type": "code",
   "execution_count": 211,
   "metadata": {},
   "outputs": [],
   "source": [
    "df.loc[df[\"consumption_mushrooms\"] == \"used in last week\", \"consumption_mushrooms\"] = \"used recently\"\n",
    "df.loc[df[\"consumption_mushrooms\"] == \"used in last day\", \"consumption_mushrooms\"] = \"used recently\""
   ]
  },
  {
   "cell_type": "code",
   "execution_count": 212,
   "metadata": {},
   "outputs": [
    {
     "data": {
      "image/png": "[encoded data removed]",
      "text/plain": [
       "<Figure size 1440x360 with 1 Axes>"
      ]
     },
     "metadata": {
      "needs_background": "light"
     },
     "output_type": "display_data"
    }
   ],
   "source": [
    "sns.catplot(x='consumption_mushrooms', kind=\"count\", data=df)"
   ]
  },
  {
   "cell_type": "code",
   "execution_count": 213,
   "metadata": {},
   "outputs": [
    {
     "data": {
      "text/plain": [
       "<seaborn.axisgrid.FacetGrid at 0x18599ac4610>"
      ]
     },
     "execution_count": 213,
     "metadata": {},
     "output_type": "execute_result"
    },
    {
     "data": {
      "image/png": "[encoded data removed]",
      "text/plain": [
       "<Figure size 360x360 with 1 Axes>"
      ]
     },
     "metadata": {
      "needs_background": "light"
     },
     "output_type": "display_data"
    }
   ],
   "source": [
    "sns.catplot(x='consumption_nicotine', kind=\"count\", data=df)"
   ]
  },
  {
   "cell_type": "markdown",
   "metadata": {},
   "source": [
    "I convert categorical variables to dummies."
   ]
  },
  {
   "cell_type": "code",
   "execution_count": 214,
   "metadata": {},
   "outputs": [],
   "source": [
    "df = pd.get_dummies(df, columns = ['age', 'gender', 'education', 'country', 'ethnicity','consumption_alcohol',\n",
    "       'consumption_amphetamines', 'consumption_caffeine',\n",
    "       'consumption_cannabis', 'consumption_chocolate',\n",
    "       'consumption_mushrooms', 'consumption_nicotine'])"
   ]
  },
  {
   "cell_type": "markdown",
   "metadata": {},
   "source": [
    "For easier analysis, I divide all levels of numerical variables by 100 (all were previously scaled from 0 to 100)."
   ]
  },
  {
   "cell_type": "code",
   "execution_count": 215,
   "metadata": {},
   "outputs": [],
   "source": [
    "df['personality_neuroticism'] = df['personality_neuroticism']/100\n",
    "df['personality_extraversion'] = df['personality_extraversion']/100\n",
    "df['personality_openness'] = df['personality_openness'] / 100\n",
    "df['personality_agreeableness'] = df['personality_agreeableness']/100\n",
    "df['personality_conscientiousness'] = df['personality_conscientiousness']/100\n",
    "df['personality_impulsiveness'] = df['personality_impulsiveness']/100\n",
    "df['personality_sensation'] = df['personality_sensation'] /100\n",
    "#df['consumption_alcohol'] = df['consumption_alcohol']/100\n",
    "#df['consumption_amphetamines'] = df['consumption_amphetamines']/100\n",
    "#df['consumption_caffeine'] = df['consumption_caffeine']/100\n",
    "#df['consumption_cannabis'] = df['consumption_cannabis']/100\n",
    "#df['consumption_chocolate'] = df['consumption_chocolate']/100\n",
    "#df['consumption_mushrooms'] = df['consumption_mushrooms']/100\n",
    "#df['consumption_nicotine'] = df['consumption_nicotine']/100\n",
    "#df['consumption_cocaine_last_month'] =df['consumption_cocaine_last_month']/100"
   ]
  },
  {
   "cell_type": "markdown",
   "metadata": {},
   "source": [
    "I check what variables I have after all the modifications."
   ]
  },
  {
   "cell_type": "code",
   "execution_count": 216,
   "metadata": {},
   "outputs": [
    {
     "data": {
      "text/plain": [
       "Index(['personality_neuroticism', 'personality_extraversion',\n",
       "       'personality_openness', 'personality_agreeableness',\n",
       "       'personality_conscientiousness', 'personality_impulsiveness',\n",
       "       'personality_sensation', 'consumption_cocaine_last_month', 'age_18-24',\n",
       "       'age_25-34', 'age_35-44', 'age_45-54', 'age_55-64', 'age_65+',\n",
       "       'gender_female', 'gender_male', 'education_Doctorate degree',\n",
       "       'education_Left school at 18 years',\n",
       "       'education_Left school before 18 years', 'education_Masters degree',\n",
       "       'education_Professional certificate/ diploma',\n",
       "       'education_Some college or university, no certificate or degree',\n",
       "       'education_University degree', 'country_Australia',\n",
       "       'country_New Zealand', 'country_Other', 'country_Other country',\n",
       "       'country_UK', 'country_USA', 'ethnicity_Mixed-Black/Asian',\n",
       "       'ethnicity_Other', 'consumption_alcohol_more than year ago',\n",
       "       'consumption_alcohol_used in last day',\n",
       "       'consumption_alcohol_used in last month',\n",
       "       'consumption_alcohol_used in last week',\n",
       "       'consumption_alcohol_used in last year',\n",
       "       'consumption_amphetamines_never used',\n",
       "       'consumption_amphetamines_used in last day',\n",
       "       'consumption_amphetamines_used in last decade',\n",
       "       'consumption_amphetamines_used in last month',\n",
       "       'consumption_amphetamines_used in last week',\n",
       "       'consumption_amphetamines_used in last year',\n",
       "       'consumption_amphetamines_used over a decade ago',\n",
       "       'consumption_caffeine_more than month ago',\n",
       "       'consumption_caffeine_used in last day',\n",
       "       'consumption_caffeine_used in last month',\n",
       "       'consumption_caffeine_used in last week',\n",
       "       'consumption_cannabis_never used',\n",
       "       'consumption_cannabis_used in last day',\n",
       "       'consumption_cannabis_used in last decade',\n",
       "       'consumption_cannabis_used in last month',\n",
       "       'consumption_cannabis_used in last week',\n",
       "       'consumption_cannabis_used in last year',\n",
       "       'consumption_cannabis_used over a decade ago',\n",
       "       'consumption_chocolate_more than month ago',\n",
       "       'consumption_chocolate_used in last day',\n",
       "       'consumption_chocolate_used in last month',\n",
       "       'consumption_chocolate_used in last week',\n",
       "       'consumption_mushrooms_never used',\n",
       "       'consumption_mushrooms_used in last decade',\n",
       "       'consumption_mushrooms_used in last month',\n",
       "       'consumption_mushrooms_used in last year',\n",
       "       'consumption_mushrooms_used over a decade ago',\n",
       "       'consumption_mushrooms_used recently',\n",
       "       'consumption_nicotine_never used',\n",
       "       'consumption_nicotine_used in last day',\n",
       "       'consumption_nicotine_used in last decade',\n",
       "       'consumption_nicotine_used in last month',\n",
       "       'consumption_nicotine_used in last week',\n",
       "       'consumption_nicotine_used in last year',\n",
       "       'consumption_nicotine_used over a decade ago'],\n",
       "      dtype='object')"
      ]
     },
     "execution_count": 216,
     "metadata": {},
     "output_type": "execute_result"
    }
   ],
   "source": [
    "df.columns"
   ]
  },
  {
   "cell_type": "markdown",
   "metadata": {},
   "source": [
    "I write the list of explanatory variables as `features` and the variable `consumption_cocaine_last_month` to `target`."
   ]
  },
  {
   "cell_type": "code",
   "execution_count": 217,
   "metadata": {},
   "outputs": [],
   "source": [
    "features = df.columns\n",
    "target = 'consumption_cocaine_last_month'"
   ]
  },
  {
   "cell_type": "markdown",
   "metadata": {},
   "source": [
    "Oversampling is the synthetic creation of new data. Therefore, if I want to measure the actual performance of the models later, it is important to save the original values on which I will not make any modifications."
   ]
  },
  {
   "cell_type": "code",
   "execution_count": 218,
   "metadata": {},
   "outputs": [],
   "source": [
    "X = df.drop('consumption_cocaine_last_month', axis=1)\n",
    "y = df['consumption_cocaine_last_month']\n",
    "\n",
    "sKFold = StratifiedKFold(n_splits=5, random_state=None, shuffle=False)\n",
    "\n",
    "for train_index, test_index in sKFold.split(X, y):\n",
    "    orgXtrain, orgXtest = X.iloc[train_index], X.iloc[test_index]\n",
    "    orgytrain, orgytest = y.iloc[train_index], y.iloc[test_index]\n",
    "\n",
    "orgXtrain = orgXtrain.values\n",
    "orgXtest = orgXtest.values\n",
    "orgytrain = orgytrain.values\n",
    "orgytest = orgytest.values"
   ]
  },
  {
   "cell_type": "markdown",
   "metadata": {},
   "source": [
    "I also do a custom train split test creating data that will feed into the estimated models."
   ]
  },
  {
   "cell_type": "code",
   "execution_count": 219,
   "metadata": {},
   "outputs": [],
   "source": [
    "X_train, X_test, y_train, y_test = train_test_split(X, y, test_size=0.2, random_state=2137)\n",
    "\n",
    "# Turn the values into an array for feeding the classification algorithms.\n",
    "X_train = X_train.values\n",
    "X_test = X_test.values\n",
    "y_train = y_train.values\n",
    "y_test = y_test.values"
   ]
  },
  {
   "cell_type": "markdown",
   "metadata": {},
   "source": [
    "# Oversampling - SMOTE + Tomek"
   ]
  },
  {
   "cell_type": "markdown",
   "metadata": {},
   "source": [
    "As I mentioned earlier, the data are unbalanced. One way to deal with this problem is SMOTE oversampling (another way is undersampling, but I'm not dealing with it in this project). Synthetic Minority Oversampling TEchnique (SMOTE) works by selecting examples that are close in the feature space, drawing a line between the examples in the feature space and drawing a new sample at a point along that line. "
   ]
  },
  {
   "cell_type": "markdown",
   "metadata": {},
   "source": [
    "Additionally, I combine this technique with undersampling Tomek. Undersampling Tomek is not yet explored. However, it is believed that combining these two techniques will reduce recall (at the expense of precision). Reducing recall will improve balanced accuracy, which is the main goal of this project."
   ]
  },
  {
   "cell_type": "markdown",
   "metadata": {},
   "source": [
    "This way I get a balanced dataset with synthetic data."
   ]
  },
  {
   "cell_type": "markdown",
   "metadata": {},
   "source": [
    "## Manual parameter tunning"
   ]
  },
  {
   "cell_type": "markdown",
   "metadata": {},
   "source": [
    "I am testing the performance of various algorithms: Random Forrest, k-Nearest Neighbors, Logistic Regression and Support Vector Classifier. I do hyperparameter tuning manually."
   ]
  },
  {
   "cell_type": "markdown",
   "metadata": {},
   "source": [
    "### Random Forrest"
   ]
  },
  {
   "cell_type": "code",
   "execution_count": 367,
   "metadata": {},
   "outputs": [],
   "source": [
    "def CVTestRFClass(nFolds = 6, randomState=2020, debug=False, features=features, *args, **kwargs):\n",
    "    kf = KFold(n_splits=nFolds, shuffle=True, random_state=randomState)\n",
    "    sKFold = StratifiedKFold(n_splits=4, random_state=None, shuffle=False)\n",
    "\n",
    "    # Lists to store the results\n",
    "    testResults = []\n",
    "    trainResults = []\n",
    "    predictions = []\n",
    "    indices = []\n",
    "\n",
    "    # Model validation on consecutive folds\n",
    "    for train, test in sKFold.split(X_train, y_train):\n",
    "        # Prepare the estimator\n",
    "        clf = make_pipeline(SMOTETomek(tomek=TomekLinks(sampling_strategy='majority')), RandomForestClassifier(*args, **kwargs, random_state=randomState)) \n",
    "        \n",
    "        if debug:\n",
    "            print(clf)\n",
    "        # Train the model\n",
    "        clf.fit(X_train[train], y_train[train])\n",
    "\n",
    "        predsTrain = clf.predict(X_train[train])\n",
    "        preds = clf.predict(X_train[test])\n",
    "        \n",
    "        # Save each fold predictions\n",
    "        predictions.append(preds.tolist().copy())\n",
    "        \n",
    "        # Store index for original dataset\n",
    "        #indices.append(df.iloc[test].index.tolist().copy())\n",
    "        \n",
    "        # Get MAPE score from each fold\n",
    "        trainScore = balanced_accuracy_score(y_train[train], predsTrain)\n",
    "        testScore = balanced_accuracy_score(y_train[test], preds)\n",
    "        \n",
    "        # Store Mape results to list  \n",
    "        trainResults.append(trainScore)\n",
    "        testResults.append(testScore)\n",
    "        \n",
    "        # Optionally, print results for each fold\n",
    "        if debug:\n",
    "            print(\"Train MAPE:\", trainScore,\n",
    "                  \"Valid MAPE:\", testScore)\n",
    "        \n",
    "    return trainResults, testResults, predictions, indices"
   ]
  },
  {
   "cell_type": "code",
   "execution_count": 368,
   "metadata": {},
   "outputs": [
    {
     "name": "stdout",
     "output_type": "stream",
     "text": [
      "1.0 0.5296737022101985\n"
     ]
    }
   ],
   "source": [
    "trainResults, testResults, predictions, indices = CVTestRFClass()\n",
    "print(np.mean(trainResults), np.mean(testResults))"
   ]
  },
  {
   "cell_type": "markdown",
   "metadata": {},
   "source": [
    "With the default settings I observe a lot of overfitting. The prediction on the training set is very large compared to the test set."
   ]
  },
  {
   "cell_type": "markdown",
   "metadata": {},
   "source": [
    "#### `min_samples_split`"
   ]
  },
  {
   "cell_type": "code",
   "execution_count": 369,
   "metadata": {},
   "outputs": [
    {
     "name": "stdout",
     "output_type": "stream",
     "text": [
      "10 0.9277763768335009 0.5499975754172834\n",
      "15 0.8781473257613932 0.5524576336072686\n",
      "20 0.8686610845271538 0.5468074626103823\n",
      "25 0.8568410146923189 0.5801175284569445\n",
      "30 0.832749890903103 0.5740294012556787\n",
      "35 0.8334803667152307 0.5669440049002092\n",
      "40 0.8178936285922451 0.5744756520851412\n",
      "45 0.8076522217697619 0.58706893471492\n",
      "50 0.8058520876922266 0.599343320912664\n",
      "55 0.7969798085500295 0.5947895717421265\n",
      "60 0.8100656732447031 0.6093300495125312\n",
      "65 0.8131815347076842 0.6057652748711143\n",
      "70 0.7960388301748953 0.6123195600020418\n",
      "75 0.8132637842370574 0.5982269919861161\n",
      "80 0.7892123855813548 0.5882236741360829\n",
      "85 0.7802272914293388 0.6128407176764841\n",
      "90 0.7822433434040322 0.6318042723699658\n",
      "95 0.7875188221603922 0.5961349599305804\n"
     ]
    }
   ],
   "source": [
    "for k in range(10, 100, 5):\n",
    "    trainResults, testResults, predictions, indices = CVTestRFClass(min_samples_split=k)\n",
    "    print(k, np.mean(trainResults), np.mean(testResults))"
   ]
  },
  {
   "cell_type": "markdown",
   "metadata": {},
   "source": [
    "Best result `min_samples_split` for 70."
   ]
  },
  {
   "cell_type": "markdown",
   "metadata": {},
   "source": [
    "#### `max_features`"
   ]
  },
  {
   "cell_type": "code",
   "execution_count": 375,
   "metadata": {},
   "outputs": [
    {
     "name": "stdout",
     "output_type": "stream",
     "text": [
      "20 0.7974199284877345 0.6001084681741616\n",
      "22 0.7808856789915744 0.6147238527895462\n",
      "24 0.8009026695791668 0.5945856515747027\n",
      "26 0.7914826864991391 0.6319965800622735\n",
      "28 0.800604444322884 0.6099894084018171\n"
     ]
    }
   ],
   "source": [
    "for k in range(20, 30, 2):\n",
    "    trainResults, testResults, predictions, indices = CVTestRFClass(min_samples_split=70, max_features=k)\n",
    "    print(k, np.mean(trainResults), np.mean(testResults))"
   ]
  },
  {
   "cell_type": "markdown",
   "metadata": {},
   "source": [
    "Best `max_features` score for 26."
   ]
  },
  {
   "cell_type": "markdown",
   "metadata": {},
   "source": [
    "#### `max_depth`"
   ]
  },
  {
   "cell_type": "code",
   "execution_count": 376,
   "metadata": {},
   "outputs": [
    {
     "name": "stdout",
     "output_type": "stream",
     "text": [
      "1 0.7345952105277914 0.7165993313256086\n",
      "2 0.7686463117092684 0.7068537849012302\n",
      "3 0.7840852212387786 0.7002577714256547\n",
      "4 0.77381089794857 0.6722331682915624\n",
      "5 0.7898875842145314 0.6676926905211578\n",
      "6 0.7959577572730787 0.6448222398039916\n",
      "7 0.8019870531387512 0.6500228421213823\n",
      "8 0.7930613616066023 0.6386608646827625\n",
      "9 0.7926593422777596 0.6382278852534327\n"
     ]
    }
   ],
   "source": [
    "for k in range(1, 10,1):\n",
    "    trainResults, testResults, predictions, indices = CVTestRFClass(min_samples_split=70, max_features=26, max_depth=k)\n",
    "    print(k, np.mean(trainResults), np.mean(testResults))"
   ]
  },
  {
   "cell_type": "markdown",
   "metadata": {},
   "source": [
    "Best for 3"
   ]
  },
  {
   "cell_type": "markdown",
   "metadata": {},
   "source": [
    "#### `min_samples_leaf`"
   ]
  },
  {
   "cell_type": "code",
   "execution_count": 377,
   "metadata": {},
   "outputs": [
    {
     "name": "stdout",
     "output_type": "stream",
     "text": [
      "1 0.785591819813489 0.7196158950538512\n",
      "11 0.7786426632592293 0.709421928436527\n",
      "21 0.7725442400521357 0.7111701801847787\n",
      "31 0.7914728044151462 0.7205299627379919\n",
      "41 0.7742209131539795 0.708969041906998\n",
      "51 0.7637756167706524 0.7071508600888163\n",
      "61 0.7595779881978644 0.7037134398448267\n",
      "71 0.7594517506381602 0.7033188709101118\n",
      "81 0.759119365511501 0.7063000867745393\n",
      "91 0.7466067361489425 0.6788775458118524\n"
     ]
    }
   ],
   "source": [
    "for k in range(1, 100,10):\n",
    "    trainResults, testResults, predictions, indices = CVTestRFClass(min_samples_split=70, max_features=26, max_depth=3, min_samples_leaf=k)\n",
    "    print(k, np.mean(trainResults), np.mean(testResults))"
   ]
  },
  {
   "cell_type": "markdown",
   "metadata": {},
   "source": [
    "Best `min_samples_leaf` score for 31."
   ]
  },
  {
   "cell_type": "markdown",
   "metadata": {},
   "source": [
    "#### `n_estimators`"
   ]
  },
  {
   "cell_type": "code",
   "execution_count": 378,
   "metadata": {},
   "outputs": [
    {
     "name": "stdout",
     "output_type": "stream",
     "text": [
      "100 0.7748178588101682 0.7128560308304834\n",
      "200 0.7805755323651191 0.6984979072022868\n",
      "300 0.7748450026339927 0.7080665866979735\n",
      "400 0.7795041569718637 0.6924672043285182\n",
      "500 0.7839337065341105 0.6932489408401816\n",
      "600 0.7873268016835621 0.7064324179470165\n",
      "700 0.7843559457394595 0.7095393292838548\n",
      "800 0.7797925317678303 0.7066847021591547\n",
      "900 0.7803716889168874 0.7135078607523863\n"
     ]
    }
   ],
   "source": [
    "for k in range(100, 1000,100):\n",
    "    trainResults, testResults, predictions, indices = CVTestRFClass(min_samples_split=70, max_features=26, max_depth=3, min_samples_leaf=31, n_estimators=k)\n",
    "    print(k, np.mean(trainResults), np.mean(testResults))"
   ]
  },
  {
   "cell_type": "markdown",
   "metadata": {},
   "source": [
    "The more `n_estimators` the better."
   ]
  },
  {
   "cell_type": "markdown",
   "metadata": {},
   "source": [
    "#### Tuned model"
   ]
  },
  {
   "cell_type": "markdown",
   "metadata": {},
   "source": [
    "I make a prediction on the model with the hyperparameters found."
   ]
  },
  {
   "cell_type": "code",
   "execution_count": 434,
   "metadata": {},
   "outputs": [
    {
     "name": "stdout",
     "output_type": "stream",
     "text": [
      "NEW DATA BALANCED ACCURACY\n",
      "training: 75.7872%\n",
      "test (out-of-sample): 78.3268%\n"
     ]
    }
   ],
   "source": [
    "best_forrest = RandomForestClassifier(min_samples_split=70, max_features=26, max_depth=3, min_samples_leaf = 31, n_estimators=1000)\n",
    "pipeline = make_pipeline(SMOTETomek(tomek=TomekLinks(sampling_strategy='majority')), best_forrest) # SMOTE happens during Cross Validation not before..\n",
    "model = pipeline.fit(X_train, y_train)\n",
    "prediction = best_forrest.predict(orgXtrain)\n",
    "print(f'NEW DATA BALANCED ACCURACY\\ntraining: {round(balanced_accuracy_score(orgytrain, prediction) * 100, 4)}%\\ntest (out-of-sample): {round(balanced_accuracy_score(orgytest, best_forrest.predict(orgXtest)) * 100, 4)}%')"
   ]
  },
  {
   "cell_type": "markdown",
   "metadata": {},
   "source": [
    "### k-Nearest Neighbors"
   ]
  },
  {
   "cell_type": "code",
   "execution_count": 382,
   "metadata": {},
   "outputs": [],
   "source": [
    "def CVTestKNNlass(nFolds = 6, randomState=2020, debug=False, features=features, *args, **kwargs):\n",
    "    kf = KFold(n_splits=nFolds, shuffle=True, random_state=randomState)\n",
    "    sKFold = StratifiedKFold(n_splits=4, random_state=None, shuffle=False)\n",
    "\n",
    "    # Lists to store the results\n",
    "    testResults = []\n",
    "    trainResults = []\n",
    "    predictions = []\n",
    "    indices = []\n",
    "\n",
    "    # Model validation on consecutive folds\n",
    "    for train, test in sKFold.split(X_train, y_train):\n",
    "        # Prepare the estimator\n",
    "        clf = make_pipeline(SMOTETomek(tomek=TomekLinks(sampling_strategy='majority')), KNeighborsClassifier(*args, **kwargs)) \n",
    "        #clf = RandomForestRegressor(*args, **kwargs, random_state=randomState, n_jobs=-1)\n",
    "        if debug:\n",
    "            print(clf)\n",
    "        # Train the model\n",
    "        clf.fit(X_train[train], y_train[train])\n",
    "\n",
    "        predsTrain = clf.predict(X_train[train])\n",
    "        preds = clf.predict(X.iloc[test])\n",
    "        \n",
    "        # Save each fold predictions\n",
    "        predictions.append(preds.tolist().copy())\n",
    "        \n",
    "        # Store index for original dataset\n",
    "        #indices.append(df.iloc[test].index.tolist().copy())\n",
    "        \n",
    "        # Get MAPE score from each fold\n",
    "        trainScore = balanced_accuracy_score(y_train[train], predsTrain)\n",
    "        testScore = balanced_accuracy_score(y_train[test], preds)\n",
    "        \n",
    "        # Store Mape results to list  \n",
    "        trainResults.append(trainScore)\n",
    "        testResults.append(testScore)\n",
    "        \n",
    "        # Optionally, print results for each fold\n",
    "        if debug:\n",
    "            print(\"Train MAPE:\", trainScore,\n",
    "                  \"Valid MAPE:\", testScore)\n",
    "        \n",
    "    return trainResults, testResults, predictions, indices"
   ]
  },
  {
   "cell_type": "markdown",
   "metadata": {},
   "source": [
    "#### `n_neighbors`"
   ]
  },
  {
   "cell_type": "code",
   "execution_count": 388,
   "metadata": {},
   "outputs": [
    {
     "name": "stdout",
     "output_type": "stream",
     "text": [
      "1 1.0 0.5239955847072636\n",
      "2 1.0 0.5269300954519933\n",
      "3 0.9153006995481838 0.5245288652952886\n",
      "4 0.9229363091107952 0.5151939666173243\n"
     ]
    }
   ],
   "source": [
    "for k in range(1, 5, 1):\n",
    "    trainResults, testResults, predictions, indices = CVTestKNNlass(n_neighbors = k)\n",
    "    print(k, np.mean(trainResults), np.mean(testResults))"
   ]
  },
  {
   "cell_type": "markdown",
   "metadata": {},
   "source": [
    "Best performance for 2 neighbors."
   ]
  },
  {
   "cell_type": "markdown",
   "metadata": {},
   "source": [
    "#### Tuned model"
   ]
  },
  {
   "cell_type": "code",
   "execution_count": 407,
   "metadata": {},
   "outputs": [
    {
     "name": "stdout",
     "output_type": "stream",
     "text": [
      "NEW DATA BALANCED ACCURACY\n",
      "training: 90.8454%\n",
      "test (out-of-sample): 88.7423%\n"
     ]
    }
   ],
   "source": [
    "best_knn = KNeighborsClassifier(n_neighbors = 2)\n",
    "pipeline = make_pipeline(SMOTETomek(tomek=TomekLinks(sampling_strategy='majority')), best_knn)\n",
    "model = pipeline.fit(X_train, y_train)\n",
    "prediction = best_knn.predict(orgXtrain)\n",
    "print(f'NEW DATA BALANCED ACCURACY\\ntraining: {round(balanced_accuracy_score(orgytrain, prediction) * 100, 4)}%\\ntest (out-of-sample): {round(balanced_accuracy_score(orgytest, best_knn.predict(orgXtest)) * 100, 4)}%')"
   ]
  },
  {
   "cell_type": "markdown",
   "metadata": {},
   "source": [
    "I obtain **VERY GOOD RESULTS** with this algorithm."
   ]
  },
  {
   "cell_type": "markdown",
   "metadata": {},
   "source": [
    "### Logistic Regression"
   ]
  },
  {
   "cell_type": "code",
   "execution_count": 363,
   "metadata": {},
   "outputs": [],
   "source": [
    "def CVTestLRClass(nFolds = 6, randomState=2020, debug=False, features=features, *args, **kwargs):\n",
    "    kf = KFold(n_splits=nFolds, shuffle=True, random_state=randomState)\n",
    "    sKFold = StratifiedKFold(n_splits=4, random_state=None, shuffle=False)\n",
    "\n",
    "    # Lists to store the results\n",
    "    testResults = []\n",
    "    trainResults = []\n",
    "    predictions = []\n",
    "    indices = []\n",
    "\n",
    "    # Model validation on consecutive folds\n",
    "    for train, test in sKFold.split(X_train, y_train):\n",
    "        # Prepare the estimator\n",
    "        clf = make_pipeline(SMOTETomek(tomek=TomekLinks(sampling_strategy='majority')), LogisticRegression(*args, **kwargs, random_state=randomState)) \n",
    "        \n",
    "        if debug:\n",
    "            print(clf)\n",
    "        # Train the model\n",
    "        clf.fit(X_train[train], y_train[train])\n",
    "\n",
    "        predsTrain = clf.predict(X_train[train])\n",
    "        preds = clf.predict(X_train[test])\n",
    "        \n",
    "        # Save each fold predictions\n",
    "        predictions.append(preds.tolist().copy())\n",
    "        \n",
    "        # Store index for original dataset\n",
    "        #indices.append(df.iloc[test].index.tolist().copy())\n",
    "        \n",
    "        # Get MAPE score from each fold\n",
    "        trainScore = balanced_accuracy_score(y_train[train], predsTrain)\n",
    "        testScore = balanced_accuracy_score(y_train[test], preds)\n",
    "        \n",
    "        # Store Mape results to list  \n",
    "        trainResults.append(trainScore)\n",
    "        testResults.append(testScore)\n",
    "        \n",
    "        # Optionally, print results for each fold\n",
    "        if debug:\n",
    "            print(\"Train MAPE:\", trainScore,\n",
    "                  \"Valid MAPE:\", testScore)\n",
    "        \n",
    "    return trainResults, testResults, predictions, indices"
   ]
  },
  {
   "cell_type": "markdown",
   "metadata": {},
   "source": [
    "`penalty='none'`"
   ]
  },
  {
   "cell_type": "code",
   "execution_count": 340,
   "metadata": {},
   "outputs": [
    {
     "name": "stdout",
     "output_type": "stream",
     "text": [
      "0.5800813460147546 0.5528041882008403\n"
     ]
    }
   ],
   "source": [
    "trainResults, testResults, predictions, indices = CVTestLRClass(penalty='none')\n",
    "print(np.mean(trainResults), np.mean(testResults))"
   ]
  },
  {
   "cell_type": "markdown",
   "metadata": {},
   "source": [
    "`penalty='l2'`"
   ]
  },
  {
   "cell_type": "code",
   "execution_count": 342,
   "metadata": {},
   "outputs": [
    {
     "name": "stdout",
     "output_type": "stream",
     "text": [
      "0.579609497322909 0.5428061586734148\n"
     ]
    }
   ],
   "source": [
    "trainResults, testResults, predictions, indices = CVTestLRClass(penalty='l2')\n",
    "print(np.mean(trainResults), np.mean(testResults))"
   ]
  },
  {
   "cell_type": "markdown",
   "metadata": {},
   "source": [
    "`penalty='elasticnet'`, `solver = 'saga'`, `l1_ratio=0.9`"
   ]
  },
  {
   "cell_type": "code",
   "execution_count": 349,
   "metadata": {},
   "outputs": [
    {
     "name": "stdout",
     "output_type": "stream",
     "text": [
      "0.5852036288865864 0.545984605093511\n"
     ]
    }
   ],
   "source": [
    "trainResults, testResults, predictions, indices = CVTestLRClass(penalty='elasticnet', solver = 'saga', l1_ratio=0.9)\n",
    "print(np.mean(trainResults), np.mean(testResults))"
   ]
  },
  {
   "cell_type": "markdown",
   "metadata": {},
   "source": [
    "Bettter for `none`"
   ]
  },
  {
   "cell_type": "markdown",
   "metadata": {},
   "source": [
    "`C`"
   ]
  },
  {
   "cell_type": "code",
   "execution_count": 364,
   "metadata": {},
   "outputs": [
    {
     "name": "stdout",
     "output_type": "stream",
     "text": [
      "0.001 0.8250483027597407 0.6823066714307591\n",
      "0.01 0.8260444907827873 0.6971143637384513\n",
      "0.1 0.8253728767122636 0.6966664539839722\n",
      "1 0.8330084983699862 0.7023066714307591\n",
      "10 0.8313923682302321 0.6923133071308254\n",
      "100 0.8275157997281211 0.6891265121739574\n"
     ]
    }
   ],
   "source": [
    "for k in [0.001, 0.01, 0.1, 1, 10, 100]:\n",
    "    trainResults, testResults, predictions, indices = CVTestLRClass(penalty='none', C = k)\n",
    "    print(k, np.mean(trainResults), np.mean(testResults))"
   ]
  },
  {
   "cell_type": "markdown",
   "metadata": {},
   "source": [
    "No big of a difference, best for `C=0.1`."
   ]
  },
  {
   "cell_type": "markdown",
   "metadata": {},
   "source": [
    "#### Tuned model"
   ]
  },
  {
   "cell_type": "code",
   "execution_count": 421,
   "metadata": {},
   "outputs": [
    {
     "name": "stdout",
     "output_type": "stream",
     "text": [
      "NEW DATA BALANCED ACCURACY\n",
      "training: 80.8633%\n",
      "test (out-of-sample): 77.0494%\n"
     ]
    }
   ],
   "source": [
    "best_lr = LogisticRegression(penalty='none', C = 1)\n",
    "pipeline = make_pipeline(SMOTETomek(tomek=TomekLinks(sampling_strategy='majority')), best_lr) # SMOTE happens during Cross Validation not before..\n",
    "model = pipeline.fit(X_train, y_train)\n",
    "prediction = best_lr.predict(orgXtrain)\n",
    "print(f'NEW DATA BALANCED ACCURACY\\ntraining: {round(balanced_accuracy_score(orgytrain, prediction) * 100, 4)}%\\ntest (out-of-sample): {round(balanced_accuracy_score(orgytest, best_lr.predict(orgXtest)) * 100, 4)}%')"
   ]
  },
  {
   "cell_type": "markdown",
   "metadata": {},
   "source": [
    "### Support Vector Classifier"
   ]
  },
  {
   "cell_type": "code",
   "execution_count": 414,
   "metadata": {},
   "outputs": [],
   "source": [
    "def CVTestSVMClass(nFolds = 6, randomState=2020, debug=False, features=features, *args, **kwargs):\n",
    "    kf = KFold(n_splits=nFolds, shuffle=True, random_state=randomState)\n",
    "    sKFold = StratifiedKFold(n_splits=4, random_state=None, shuffle=False)\n",
    "\n",
    "    # Lists to store the results\n",
    "    testResults = []\n",
    "    trainResults = []\n",
    "    predictions = []\n",
    "    indices = []\n",
    "\n",
    "    # Model validation on consecutive folds\n",
    "    for train, test in sKFold.split(X_train, y_train):\n",
    "        # Prepare the estimator\n",
    "        clf = make_pipeline(SMOTETomek(tomek=TomekLinks(sampling_strategy='majority')), SVC(*args, **kwargs, random_state=randomState)) \n",
    "        #clf = RandomForestRegressor(*args, **kwargs, random_state=randomState, n_jobs=-1)\n",
    "        if debug:\n",
    "            print(clf)\n",
    "        # Train the model\n",
    "        clf.fit(X_train[train], y_train[train])\n",
    "\n",
    "        predsTrain = clf.predict(X_train[train])\n",
    "        preds = clf.predict(X_train[test])\n",
    "        \n",
    "        # Save each fold predictions\n",
    "        predictions.append(preds.tolist().copy())\n",
    "        \n",
    "        # Store index for original dataset\n",
    "        #indices.append(df.iloc[test].index.tolist().copy())\n",
    "        \n",
    "        # Get MAPE score from each fold\n",
    "        trainScore = balanced_accuracy_score(y_train[train], predsTrain)\n",
    "        testScore = balanced_accuracy_score(y_train[test], preds)\n",
    "        \n",
    "        # Store Mape results to list  \n",
    "        trainResults.append(trainScore)\n",
    "        testResults.append(testScore)\n",
    "        \n",
    "        # Optionally, print results for each fold\n",
    "        if debug:\n",
    "            print(\"Train MAPE:\", trainScore,\n",
    "                  \"Valid MAPE:\", testScore)\n",
    "        \n",
    "    return trainResults, testResults, predictions, indices"
   ]
  },
  {
   "cell_type": "markdown",
   "metadata": {},
   "source": [
    "`gamma='auto'`"
   ]
  },
  {
   "cell_type": "code",
   "execution_count": 416,
   "metadata": {},
   "outputs": [
    {
     "name": "stdout",
     "output_type": "stream",
     "text": [
      "0.8295152160109892 0.7393614414782298\n"
     ]
    }
   ],
   "source": [
    "trainResults, testResults, predictions, indices = CVTestSVMClass(gamma='auto')\n",
    "print(np.mean(trainResults), np.mean(testResults))"
   ]
  },
  {
   "cell_type": "markdown",
   "metadata": {},
   "source": [
    "`gamma`"
   ]
  },
  {
   "cell_type": "code",
   "execution_count": 418,
   "metadata": {},
   "outputs": [
    {
     "name": "stdout",
     "output_type": "stream",
     "text": [
      "1 1.0 0.5\n",
      "0.1 0.9833363915234572 0.5995306518299218\n",
      "0.01 0.8275045332578351 0.7393431933030473\n",
      "0.001 0.7644630308363979 0.7478408452861007\n",
      "0.0001 0.7429240735751432 0.722114108519218\n"
     ]
    }
   ],
   "source": [
    "for k in [1, 0.1, 0.01, 0.001, 0.0001]:\n",
    "    trainResults, testResults, predictions, indices = CVTestSVMClass(gamma=k)\n",
    "    print(k, np.mean(trainResults), np.mean(testResults))"
   ]
  },
  {
   "cell_type": "markdown",
   "metadata": {},
   "source": [
    "Best performance for `gamma=0.001`."
   ]
  },
  {
   "cell_type": "markdown",
   "metadata": {},
   "source": [
    "`C`"
   ]
  },
  {
   "cell_type": "code",
   "execution_count": 419,
   "metadata": {},
   "outputs": [
    {
     "name": "stdout",
     "output_type": "stream",
     "text": [
      "0.1 0.7375810002807517 0.7312099943851769\n",
      "1 0.7665682218923097 0.744852993721607\n",
      "10 0.8143925623991031 0.7450467051196978\n",
      "100 0.8417149768430625 0.7415274871114287\n",
      "1000 0.8983341753059562 0.6685036496350366\n"
     ]
    }
   ],
   "source": [
    "for k in [0.1, 1, 10, 100, 1000]:\n",
    "    trainResults, testResults, predictions, indices = CVTestSVMClass(gamma=0.001, C=k)\n",
    "    print(k, np.mean(trainResults), np.mean(testResults))"
   ]
  },
  {
   "cell_type": "markdown",
   "metadata": {},
   "source": [
    "Best for `gamma=0.001` and `C=10`."
   ]
  },
  {
   "cell_type": "markdown",
   "metadata": {},
   "source": [
    "#### Tuned model"
   ]
  },
  {
   "cell_type": "code",
   "execution_count": 422,
   "metadata": {},
   "outputs": [
    {
     "name": "stdout",
     "output_type": "stream",
     "text": [
      "NEW DATA BALANCED ACCURACY\n",
      "training: 79.7444%\n",
      "test (out-of-sample): 77.1477%\n"
     ]
    }
   ],
   "source": [
    "best_svm = SVC(gamma=0.001, C = 10)\n",
    "pipeline = make_pipeline(SMOTETomek(tomek=TomekLinks(sampling_strategy='majority')), best_svm) # SMOTE happens during Cross Validation not before..\n",
    "model = pipeline.fit(X_train, y_train)\n",
    "prediction = best_svm.predict(orgXtrain)\n",
    "print(f'NEW DATA BALANCED ACCURACY\\ntraining: {round(balanced_accuracy_score(orgytrain, prediction) * 100, 4)}%\\ntest (out-of-sample): {round(balanced_accuracy_score(orgytest, best_svm.predict(orgXtest)) * 100, 4)}%')"
   ]
  },
  {
   "cell_type": "markdown",
   "metadata": {},
   "source": [
    "## Grid Search (automated parameter tuning)"
   ]
  },
  {
   "cell_type": "markdown",
   "metadata": {},
   "source": [
    "I then check to see if I can get better results with GridSearch. I give the parameters and make pipelines with SMOTE+Tomek."
   ]
  },
  {
   "cell_type": "code",
   "execution_count": 310,
   "metadata": {},
   "outputs": [
    {
     "name": "stdout",
     "output_type": "stream",
     "text": [
      "LogisticRegression balanced accuracy: 0.7004708533475655\n",
      "KNN balanced accuracy: 0.48124133525954244\n",
      "SVC balanced accuracy: 0.5062145579687914\n",
      "DecisionTreeClassifier balanced accuracy: 0.532702503125552\n"
     ]
    }
   ],
   "source": [
    "logistic_regression = LogisticRegression()\n",
    "logistic_params = {\"penalty\": ['l2', 'none'], 'C': [0.001, 0.01, 0.1, 1, 10, 100, 1000]}\n",
    "rcv_logistic_regression = RandomizedSearchCV(LogisticRegression(), logistic_params, n_iter=4)\n",
    "\n",
    "knn = KNeighborsClassifier()\n",
    "knn_params = {\"n_neighbors\": list(range(1,5,1)), 'algorithm': ['auto', 'ball_tree', 'kd_tree', 'brute']}\n",
    "rcv_knn = RandomizedSearchCV(KNeighborsClassifier(), knn_params, n_iter=4)\n",
    "\n",
    "svc = SVC()\n",
    "svc_params = {'C': [0.1, 0.3, 0.5, 0.7, 0.9, 1], 'kernel': ['rbf', 'poly', 'sigmoid', 'linear']}\n",
    "rcv_svc = RandomizedSearchCV(SVC(), svc_params, n_iter=4)\n",
    "\n",
    "tree = DecisionTreeClassifier()\n",
    "tree_params = {\"criterion\": [\"gini\", \"entropy\"], \"max_depth\": list(range(2,4,1)), \n",
    "              \"min_samples_leaf\": list(range(1,7,1)), \"max_features\":list(range(5,45,5)), \"min_samples_split\":list(range(1,20,2))}\n",
    "rcv_tree = RandomizedSearchCV(RandomForestClassifier(), tree_params, n_iter=4)\n",
    "\n",
    "\n",
    "# Implementing SMOTE Technique \n",
    "# Cross Validating the right way\n",
    "balanced_accuracy_list = []\n",
    "for train, test in sKFold.split(X_train, y_train):\n",
    "    pipeline = make_pipeline(SMOTETomek(tomek=TomekLinks(sampling_strategy='majority')), rcv_logistic_regression)\n",
    "    model = pipeline.fit(X_train[train], y_train[train])\n",
    "    best_lrgr = rcv_logistic_regression.best_estimator_\n",
    "    prediction = best_lrgr.predict(X_train[test])\n",
    "    balanced_accuracy_list.append(balanced_accuracy_score(y_train[test], prediction))\n",
    "print(\"LogisticRegression balanced accuracy: {}\".format(np.mean(balanced_accuracy_list)))\n",
    "\n",
    "balanced_accuracy_list = []\n",
    "for train, test in sKFold.split(X_train, y_train):\n",
    "    pipeline = make_pipeline(SMOTETomek(tomek=TomekLinks(sampling_strategy='majority')), rcv_knn)\n",
    "    model = pipeline.fit(X_train[train], y_train[train])\n",
    "    best_knears = rcv_knn.best_estimator_\n",
    "    prediction = best_knears.predict(X_train[test])\n",
    "    balanced_accuracy_list.append(balanced_accuracy_score(orgytrain[test], prediction)) \n",
    "print(\"KNN balanced accuracy: {}\".format(np.mean(balanced_accuracy_list)))\n",
    "\n",
    "balanced_accuracy_list = []\n",
    "for train, test in sKFold.split(X_train, y_train):\n",
    "    pipeline = make_pipeline(SMOTETomek(tomek=TomekLinks(sampling_strategy='majority')), rcv_svc)\n",
    "    model = pipeline.fit(X_train[train], y_train[train])\n",
    "    best_svc = rcv_svc.best_estimator_\n",
    "    prediction = best_svc.predict(X_train[test])\n",
    "    balanced_accuracy_list.append(balanced_accuracy_score(orgytrain[test], prediction))\n",
    "print(\"SVC balanced accuracy: {}\".format(np.mean(balanced_accuracy_list)))\n",
    "\n",
    "balanced_accuracy_list = []\n",
    "for train, test in sKFold.split(X_train, y_train):\n",
    "    pipeline = make_pipeline(SMOTETomek(tomek=TomekLinks(sampling_strategy='majority')), rcv_tree)\n",
    "    model = pipeline.fit(X_train[train], y_train[train])\n",
    "    best_tree = rcv_tree.best_estimator_\n",
    "    prediction = best_tree.predict(X_train[test])\n",
    "    balanced_accuracy_list.append(balanced_accuracy_score(orgytrain[test], prediction))\n",
    "print(\"DecisionTreeClassifier balanced accuracy: {}\".format(np.mean(balanced_accuracy_list)))"
   ]
  },
  {
   "cell_type": "markdown",
   "metadata": {},
   "source": [
    "Best for logistic regression, but weaker than for manual search."
   ]
  },
  {
   "cell_type": "markdown",
   "metadata": {},
   "source": [
    "## Out-Of-Sample Performance"
   ]
  },
  {
   "cell_type": "markdown",
   "metadata": {},
   "source": [
    "### Grid Search"
   ]
  },
  {
   "cell_type": "markdown",
   "metadata": {},
   "source": [
    "I draw a confussion matrix for the models obtained by GridSearch"
   ]
  },
  {
   "cell_type": "code",
   "execution_count": 168,
   "metadata": {},
   "outputs": [
    {
     "data": {
      "image/png": "[encoded data removed]",
      "text/plain": [
       "<Figure size 1584x864 with 8 Axes>"
      ]
     },
     "metadata": {
      "needs_background": "light"
     },
     "output_type": "display_data"
    }
   ],
   "source": [
    "from sklearn.metrics import confusion_matrix\n",
    "\n",
    "# fitted using SMOTE technique\n",
    "y_pred_log_reg = best_lrgr.predict(X_test)\n",
    "y_pred_knear = best_knears.predict(X_test)\n",
    "y_pred_svc = best_svc.predict(X_test)\n",
    "y_pred_tree = best_tree.predict(X_test)\n",
    "\n",
    "\n",
    "log_reg_cf = confusion_matrix(y_test, y_pred_log_reg)\n",
    "kneighbors_cf = confusion_matrix(y_test, y_pred_knear)\n",
    "svc_cf = confusion_matrix(y_test, y_pred_svc)\n",
    "tree_cf = confusion_matrix(y_test, y_pred_tree)\n",
    "\n",
    "\n",
    "fig, ax = plt.subplots(2, 2,figsize=(22,12))\n",
    "\n",
    "sns.heatmap(log_reg_cf, ax=ax[0][0], annot=True)\n",
    "ax[0, 0].set_title(\"Logistic Regression \\n Confusion Matrix\", fontsize=14)\n",
    "ax[0, 0].set_xticklabels(['', ''], fontsize=14, rotation=90)\n",
    "ax[0, 0].set_yticklabels(['', ''], fontsize=14, rotation=360)\n",
    "\n",
    "sns.heatmap(kneighbors_cf, ax=ax[0][1], annot=True)\n",
    "ax[0][1].set_title(\"KNearsNeighbors \\n Confusion Matrix\", fontsize=14)\n",
    "ax[0][1].set_xticklabels(['', ''], fontsize=14, rotation=90)\n",
    "ax[0][1].set_yticklabels(['', ''], fontsize=14, rotation=360)\n",
    "\n",
    "sns.heatmap(svc_cf, ax=ax[1][0], annot=True)\n",
    "ax[1][0].set_title(\"Suppor Vector Classifier \\n Confusion Matrix\", fontsize=14)\n",
    "ax[1][0].set_xticklabels(['', ''], fontsize=14, rotation=90)\n",
    "ax[1][0].set_yticklabels(['', ''], fontsize=14, rotation=360)\n",
    "\n",
    "sns.heatmap(tree_cf, ax=ax[1][1], annot=True)\n",
    "ax[1][1].set_title(\"DecisionTree Classifier \\n Confusion Matrix\", fontsize=14)\n",
    "ax[1][1].set_xticklabels(['', ''], fontsize=14, rotation=90)\n",
    "ax[1][1].set_yticklabels(['', ''], fontsize=14, rotation=360)\n",
    "\n",
    "\n",
    "plt.show()"
   ]
  },
  {
   "cell_type": "markdown",
   "metadata": {},
   "source": [
    "#### Logistic Regression"
   ]
  },
  {
   "cell_type": "code",
   "execution_count": 432,
   "metadata": {},
   "outputs": [
    {
     "name": "stdout",
     "output_type": "stream",
     "text": [
      "0.7549129702414374\n"
     ]
    },
    {
     "data": {
      "image/png": "[encoded data removed]",
      "text/plain": [
       "<Figure size 432x288 with 2 Axes>"
      ]
     },
     "metadata": {
      "needs_background": "light"
     },
     "output_type": "display_data"
    }
   ],
   "source": [
    "y_pred = best_lrgr.predict(orgXtest)\n",
    "score = balanced_accuracy_score(orgytest, y_pred)\n",
    "\n",
    "confu = confusion_matrix(orgytest, y_pred)\n",
    "\n",
    "print(score)\n",
    "sns.heatmap(confu, annot=True)"
   ]
  },
  {
   "cell_type": "markdown",
   "metadata": {},
   "source": [
    "### Manual parameter tuning"
   ]
  },
  {
   "cell_type": "markdown",
   "metadata": {},
   "source": [
    "#### Random Forrest Classifier"
   ]
  },
  {
   "cell_type": "code",
   "execution_count": 381,
   "metadata": {},
   "outputs": [
    {
     "name": "stdout",
     "output_type": "stream",
     "text": [
      "0.7850926445816957\n"
     ]
    },
    {
     "data": {
      "image/png": "[encoded data removed]",
      "text/plain": [
       "<Figure size 432x288 with 2 Axes>"
      ]
     },
     "metadata": {
      "needs_background": "light"
     },
     "output_type": "display_data"
    }
   ],
   "source": [
    "y_pred = best_forrest.predict(orgXtest)\n",
    "score = balanced_accuracy_score(orgytest, y_pred)\n",
    "\n",
    "confu = confusion_matrix(orgytest, y_pred)\n",
    "\n",
    "print(score)\n",
    "sns.heatmap(confu, annot=True)"
   ]
  },
  {
   "cell_type": "markdown",
   "metadata": {},
   "source": [
    "#### k-Nearest Neighbors"
   ]
  },
  {
   "cell_type": "code",
   "execution_count": 408,
   "metadata": {},
   "outputs": [
    {
     "name": "stdout",
     "output_type": "stream",
     "text": [
      "0.8874227961819203\n"
     ]
    },
    {
     "data": {
      "image/png": "[encoded data removed]",
      "text/plain": [
       "<Figure size 432x288 with 2 Axes>"
      ]
     },
     "metadata": {
      "needs_background": "light"
     },
     "output_type": "display_data"
    }
   ],
   "source": [
    "y_pred = best_knn.predict(orgXtest)\n",
    "score = balanced_accuracy_score(orgytest, y_pred)\n",
    "\n",
    "confu = confusion_matrix(orgytest, y_pred)\n",
    "\n",
    "print(score)\n",
    "sns.heatmap(confu, annot=True)"
   ]
  },
  {
   "cell_type": "markdown",
   "metadata": {
    "tags": []
   },
   "source": [
    "#### Logistic Regression"
   ]
  },
  {
   "cell_type": "code",
   "execution_count": 431,
   "metadata": {},
   "outputs": [
    {
     "name": "stdout",
     "output_type": "stream",
     "text": [
      "0.7704941044357103\n"
     ]
    },
    {
     "data": {
      "text/plain": [
       "<AxesSubplot:>"
      ]
     },
     "execution_count": 431,
     "metadata": {},
     "output_type": "execute_result"
    },
    {
     "data": {
      "image/png": "[encoded data removed]",
      "text/plain": [
       "<Figure size 432x288 with 2 Axes>"
      ]
     },
     "metadata": {
      "needs_background": "light"
     },
     "output_type": "display_data"
    }
   ],
   "source": [
    "y_pred = best_lr.predict(orgXtest)\n",
    "score = balanced_accuracy_score(orgytest, y_pred)\n",
    "\n",
    "confu = confusion_matrix(orgytest, y_pred)\n",
    "\n",
    "print(score)\n",
    "sns.heatmap(confu, annot=True)"
   ]
  },
  {
   "cell_type": "markdown",
   "metadata": {},
   "source": [
    "#### Support Vector Classifier"
   ]
  },
  {
   "cell_type": "code",
   "execution_count": 423,
   "metadata": {},
   "outputs": [
    {
     "name": "stdout",
     "output_type": "stream",
     "text": [
      "0.7714766984839978\n"
     ]
    },
    {
     "data": {
      "image/png": "[encoded data removed]",
      "text/plain": [
       "<Figure size 432x288 with 2 Axes>"
      ]
     },
     "metadata": {
      "needs_background": "light"
     },
     "output_type": "display_data"
    }
   ],
   "source": [
    "y_pred = best_svm.predict(orgXtest)\n",
    "score = balanced_accuracy_score(orgytest, y_pred)\n",
    "\n",
    "confu = confusion_matrix(orgytest, y_pred)\n",
    "\n",
    "print(score)\n",
    "sns.heatmap(confu, annot=True)"
   ]
  },
  {
   "cell_type": "markdown",
   "metadata": {},
   "source": [
    "# Best model"
   ]
  },
  {
   "cell_type": "markdown",
   "metadata": {},
   "source": [
    "The best model of all was the KNN model with 2 neighbours, obtained by manual tuning. I draw the AUC-ROC curve."
   ]
  },
  {
   "cell_type": "code",
   "execution_count": 433,
   "metadata": {},
   "outputs": [
    {
     "data": {
      "image/png": "[encoded data removed]",
      "text/plain": [
       "<Figure size 432x288 with 1 Axes>"
      ]
     },
     "metadata": {
      "needs_background": "light"
     },
     "output_type": "display_data"
    }
   ],
   "source": [
    "y_scores = best_knn.predict_proba(orgXtest)\n",
    "fpr, tpr, threshold = roc_curve(orgytest, y_scores[:, 1])\n",
    "roc_auc = auc(fpr, tpr)\n",
    "\n",
    "plt.title('Receiver Operating Characteristic')\n",
    "plt.plot(fpr, tpr, 'b', label = 'AUC = %0.2f' % roc_auc)\n",
    "plt.legend(loc = 'lower right')\n",
    "plt.plot([0, 1], [0, 1],'r--')\n",
    "plt.xlim([0, 1])\n",
    "plt.ylim([0, 1])\n",
    "plt.ylabel('True Positive Rate')\n",
    "plt.xlabel('False Positive Rate')\n",
    "plt.title('ROC Curve of kNN')\n",
    "plt.show()"
   ]
  },
  {
   "cell_type": "markdown",
   "metadata": {},
   "source": [
    "# Test Data Prediction"
   ]
  },
  {
   "cell_type": "markdown",
   "metadata": {},
   "source": [
    "At the very end it remains to make a prediction on the test set. Before that, I have to make the same modifications on the test set as I did on the training set."
   ]
  },
  {
   "cell_type": "code",
   "execution_count": 391,
   "metadata": {},
   "outputs": [
    {
     "data": {
      "text/html": [
       "<div>\n",
       "<style scoped>\n",
       "    .dataframe tbody tr th:only-of-type {\n",
       "        vertical-align: middle;\n",
       "    }\n",
       "\n",
       "    .dataframe tbody tr th {\n",
       "        vertical-align: top;\n",
       "    }\n",
       "\n",
       "    .dataframe thead th {\n",
       "        text-align: right;\n",
       "    }\n",
       "</style>\n",
       "<table border=\"1\" class=\"dataframe\">\n",
       "  <thead>\n",
       "    <tr style=\"text-align: right;\">\n",
       "      <th></th>\n",
       "      <th>age</th>\n",
       "      <th>gender</th>\n",
       "      <th>education</th>\n",
       "      <th>country</th>\n",
       "      <th>ethnicity</th>\n",
       "      <th>personality_neuroticism</th>\n",
       "      <th>personality_extraversion</th>\n",
       "      <th>personality_openness</th>\n",
       "      <th>personality_agreeableness</th>\n",
       "      <th>personality_conscientiousness</th>\n",
       "      <th>personality_impulsiveness</th>\n",
       "      <th>personality_sensation</th>\n",
       "      <th>consumption_alcohol</th>\n",
       "      <th>consumption_amphetamines</th>\n",
       "      <th>consumption_caffeine</th>\n",
       "      <th>consumption_cannabis</th>\n",
       "      <th>consumption_chocolate</th>\n",
       "      <th>consumption_mushrooms</th>\n",
       "      <th>consumption_nicotine</th>\n",
       "    </tr>\n",
       "  </thead>\n",
       "  <tbody>\n",
       "    <tr>\n",
       "      <th>0</th>\n",
       "      <td>18-24</td>\n",
       "      <td>female</td>\n",
       "      <td>Some college or university, no certificate or ...</td>\n",
       "      <td>USA</td>\n",
       "      <td>Mixed-Black/Asian</td>\n",
       "      <td>37.7</td>\n",
       "      <td>74.2</td>\n",
       "      <td>60.2</td>\n",
       "      <td>45.6</td>\n",
       "      <td>40.6</td>\n",
       "      <td>63.0</td>\n",
       "      <td>71.1</td>\n",
       "      <td>used in last day</td>\n",
       "      <td>never used</td>\n",
       "      <td>used in last day</td>\n",
       "      <td>used in last week</td>\n",
       "      <td>used in last day</td>\n",
       "      <td>used in last decade</td>\n",
       "      <td>used in last day</td>\n",
       "    </tr>\n",
       "    <tr>\n",
       "      <th>1</th>\n",
       "      <td>45-54</td>\n",
       "      <td>male</td>\n",
       "      <td>Doctorate degree</td>\n",
       "      <td>USA</td>\n",
       "      <td>Other</td>\n",
       "      <td>62.3</td>\n",
       "      <td>47.6</td>\n",
       "      <td>73.1</td>\n",
       "      <td>43.5</td>\n",
       "      <td>60.9</td>\n",
       "      <td>56.5</td>\n",
       "      <td>71.1</td>\n",
       "      <td>used in last day</td>\n",
       "      <td>used over a decade ago</td>\n",
       "      <td>used in last day</td>\n",
       "      <td>used in last decade</td>\n",
       "      <td>used in last month</td>\n",
       "      <td>never used</td>\n",
       "      <td>used in last decade</td>\n",
       "    </tr>\n",
       "    <tr>\n",
       "      <th>2</th>\n",
       "      <td>45-54</td>\n",
       "      <td>female</td>\n",
       "      <td>Professional certificate/ diploma</td>\n",
       "      <td>USA</td>\n",
       "      <td>Mixed-Black/Asian</td>\n",
       "      <td>56.1</td>\n",
       "      <td>52.6</td>\n",
       "      <td>34.9</td>\n",
       "      <td>58.5</td>\n",
       "      <td>58.4</td>\n",
       "      <td>56.5</td>\n",
       "      <td>38.8</td>\n",
       "      <td>used in last week</td>\n",
       "      <td>never used</td>\n",
       "      <td>used in last day</td>\n",
       "      <td>never used</td>\n",
       "      <td>used in last day</td>\n",
       "      <td>never used</td>\n",
       "      <td>never used</td>\n",
       "    </tr>\n",
       "    <tr>\n",
       "      <th>3</th>\n",
       "      <td>35-44</td>\n",
       "      <td>male</td>\n",
       "      <td>Some college or university, no certificate or ...</td>\n",
       "      <td>Australia</td>\n",
       "      <td>Mixed-Black/Asian</td>\n",
       "      <td>71.8</td>\n",
       "      <td>50.1</td>\n",
       "      <td>45.7</td>\n",
       "      <td>39.0</td>\n",
       "      <td>42.4</td>\n",
       "      <td>63.0</td>\n",
       "      <td>46.6</td>\n",
       "      <td>used in last decade</td>\n",
       "      <td>never used</td>\n",
       "      <td>used in last day</td>\n",
       "      <td>used in last day</td>\n",
       "      <td>used in last week</td>\n",
       "      <td>never used</td>\n",
       "      <td>used in last day</td>\n",
       "    </tr>\n",
       "    <tr>\n",
       "      <th>4</th>\n",
       "      <td>35-44</td>\n",
       "      <td>male</td>\n",
       "      <td>Left school at 16 years</td>\n",
       "      <td>USA</td>\n",
       "      <td>Mixed-Black/Asian</td>\n",
       "      <td>62.3</td>\n",
       "      <td>41.2</td>\n",
       "      <td>19.2</td>\n",
       "      <td>39.0</td>\n",
       "      <td>22.3</td>\n",
       "      <td>42.8</td>\n",
       "      <td>38.8</td>\n",
       "      <td>used in last decade</td>\n",
       "      <td>used in last day</td>\n",
       "      <td>used in last day</td>\n",
       "      <td>used in last day</td>\n",
       "      <td>used in last week</td>\n",
       "      <td>used over a decade ago</td>\n",
       "      <td>used in last day</td>\n",
       "    </tr>\n",
       "  </tbody>\n",
       "</table>\n",
       "</div>"
      ],
      "text/plain": [
       "     age  gender                                          education  \\\n",
       "0  18-24  female  Some college or university, no certificate or ...   \n",
       "1  45-54    male                                   Doctorate degree   \n",
       "2  45-54  female                  Professional certificate/ diploma   \n",
       "3  35-44    male  Some college or university, no certificate or ...   \n",
       "4  35-44    male                            Left school at 16 years   \n",
       "\n",
       "     country          ethnicity  personality_neuroticism  \\\n",
       "0        USA  Mixed-Black/Asian                     37.7   \n",
       "1        USA              Other                     62.3   \n",
       "2        USA  Mixed-Black/Asian                     56.1   \n",
       "3  Australia  Mixed-Black/Asian                     71.8   \n",
       "4        USA  Mixed-Black/Asian                     62.3   \n",
       "\n",
       "   personality_extraversion  personality_openness  personality_agreeableness  \\\n",
       "0                      74.2                  60.2                       45.6   \n",
       "1                      47.6                  73.1                       43.5   \n",
       "2                      52.6                  34.9                       58.5   \n",
       "3                      50.1                  45.7                       39.0   \n",
       "4                      41.2                  19.2                       39.0   \n",
       "\n",
       "   personality_conscientiousness  personality_impulsiveness  \\\n",
       "0                           40.6                       63.0   \n",
       "1                           60.9                       56.5   \n",
       "2                           58.4                       56.5   \n",
       "3                           42.4                       63.0   \n",
       "4                           22.3                       42.8   \n",
       "\n",
       "   personality_sensation  consumption_alcohol consumption_amphetamines  \\\n",
       "0                   71.1     used in last day               never used   \n",
       "1                   71.1     used in last day   used over a decade ago   \n",
       "2                   38.8    used in last week               never used   \n",
       "3                   46.6  used in last decade               never used   \n",
       "4                   38.8  used in last decade         used in last day   \n",
       "\n",
       "  consumption_caffeine consumption_cannabis consumption_chocolate  \\\n",
       "0     used in last day    used in last week      used in last day   \n",
       "1     used in last day  used in last decade    used in last month   \n",
       "2     used in last day           never used      used in last day   \n",
       "3     used in last day     used in last day     used in last week   \n",
       "4     used in last day     used in last day     used in last week   \n",
       "\n",
       "    consumption_mushrooms consumption_nicotine  \n",
       "0     used in last decade     used in last day  \n",
       "1              never used  used in last decade  \n",
       "2              never used           never used  \n",
       "3              never used     used in last day  \n",
       "4  used over a decade ago     used in last day  "
      ]
     },
     "execution_count": 391,
     "metadata": {},
     "output_type": "execute_result"
    }
   ],
   "source": [
    "df_test = pd.read_csv(\"data/drugs_test.csv\")\n",
    "df_test.drop(columns=['id'], inplace = True)\n",
    "df_test.head()\n",
    "df_test.loc[df_test[\"education\"] == \"Left school at 17 years\", \"education\"] = \"Left school before 18 years\"\n",
    "df_test.loc[df_test[\"education\"] == \"Left school at 16 years\", \"education\"] = \"Left school before 18 years\"\n",
    "df_test.loc[df_test[\"education\"] == \"Left school before 16 years\", \"education\"] = \"Left school before 18 years\"\n",
    "df_test.loc[df_test[\"country\"] == \"Canada\", \"country\"] = \"Other country\"\n",
    "df_test.loc[df_test[\"country\"] == \"Ireland\", \"country\"] = \"Other country\"\n",
    "df_test.loc[df_test[\"ethnicity\"] == \"Asian\", \"ethnicity\"] = \"Other\"\n",
    "df_test.loc[df_test[\"ethnicity\"] == \"Black\", \"ethnicity\"] = \"Other\"\n",
    "df_test.loc[df_test[\"ethnicity\"] == \"Other\", \"ethnicity\"] = \"Other\"\n",
    "df_test.loc[df_test[\"ethnicity\"] == \"White\", \"ethnicity\"] = \"Other\"\n",
    "df_test.loc[df_test[\"ethnicity\"] == \"Mixed-White/Asian\", \"ethnicity\"] = \"Other\"\n",
    "df_test.loc[df_test[\"ethnicity\"] == \"Mixed-White/Black\", \"ethnicity\"] = \"Other\"\n",
    "df_test.loc[df_test[\"consumption_alcohol\"] == \"never used\", \"consumption_alcohol\"] = \"more than year ago\"\n",
    "df_test.loc[df_test[\"consumption_alcohol\"] == \"used in last decade\", \"consumption_alcohol\"] = \"more than year ago\"\n",
    "df_test.loc[df_test[\"consumption_alcohol\"] == \"used over a decade ago\", \"consumption_alcohol\"] = \"more than year ago\"\n",
    "df_test.loc[df_test[\"consumption_caffeine\"] == \"used in last decade\", \"consumption_caffeine\"] = \"more than month ago\"\n",
    "df_test.loc[df_test[\"consumption_caffeine\"] == \"used over a decade ago\", \"consumption_caffeine\"] = \"more than month ago\"\n",
    "df_test.loc[df_test[\"consumption_caffeine\"] == \"used in last year\", \"consumption_caffeine\"] = \"more than month ago\"\n",
    "df_test.loc[df_test[\"consumption_caffeine\"] == \"never used\", \"consumption_caffeine\"] = \"more than month ago\"\n",
    "df_test.loc[df_test[\"consumption_chocolate\"] == \"used in last decade\", \"consumption_chocolate\"] = \"more than month ago\"\n",
    "df_test.loc[df_test[\"consumption_chocolate\"] == \"used over a decade ago\", \"consumption_chocolate\"] = \"more than month ago\"\n",
    "df_test.loc[df_test[\"consumption_chocolate\"] == \"never used\", \"consumption_chocolate\"] = \"more than month ago\"\n",
    "df_test.loc[df_test[\"consumption_chocolate\"] == \"used in last year\", \"consumption_chocolate\"] = \"more than month ago\"\n",
    "df_test.loc[df_test[\"consumption_mushrooms\"] == \"used in last week\", \"consumption_mushrooms\"] = \"used recently\"\n",
    "df_test.loc[df_test[\"consumption_mushrooms\"] == \"used in last day\", \"consumption_mushrooms\"] = \"used recently\"\n",
    "df_test = pd.get_dummies(df_test, columns = ['age', 'gender', 'education', 'country', 'ethnicity','consumption_alcohol',\n",
    "       'consumption_amphetamines', 'consumption_caffeine',\n",
    "       'consumption_cannabis', 'consumption_chocolate',\n",
    "       'consumption_mushrooms', 'consumption_nicotine'])\n",
    "df_test['personality_neuroticism'] = df_test['personality_neuroticism']/100\n",
    "df_test['personality_extraversion'] = df_test['personality_extraversion']/100\n",
    "df_test['personality_openness'] = df_test['personality_openness'] / 100\n",
    "df_test['personality_agreeableness'] = df_test['personality_agreeableness']/100\n",
    "df_test['personality_conscientiousness'] = df_test['personality_conscientiousness']/100\n",
    "df_test['personality_impulsiveness'] = df_test['personality_impulsiveness']/100\n",
    "df_test['personality_sensation'] = df_test['personality_sensation'] /100"
   ]
  },
  {
   "cell_type": "code",
   "execution_count": 399,
   "metadata": {},
   "outputs": [
    {
     "data": {
      "text/plain": [
       "array([1, 1, 0, 0, 0, 0, 0, 0, 0, 0, 0, 0, 1, 0, 0, 0, 0, 0, 0, 0, 1, 0,\n",
       "       0, 1, 0, 0, 0, 0, 0, 0, 1, 0, 1, 0, 0, 0, 0, 0, 0, 0, 0, 0, 0, 0,\n",
       "       0, 0, 0, 0, 1, 0, 1, 0, 0, 0, 0, 0, 0, 0, 0, 0, 0, 1, 0, 0, 0, 0,\n",
       "       0, 0, 0, 0, 0, 0, 0, 0, 0, 0, 0, 0, 1, 0, 0, 0, 0, 0, 0, 1, 0, 0,\n",
       "       0, 0, 0, 1, 1, 0, 1, 0, 0, 0, 1, 0, 0, 0, 0, 1, 0, 0, 0, 0, 0, 1,\n",
       "       0, 0, 0, 0, 0, 0, 0, 0, 1, 0, 0, 0, 0, 0, 0, 0, 0, 0, 0, 0, 0, 0,\n",
       "       0, 0, 1, 0, 0, 1, 0, 0, 1, 1, 0, 0, 0, 0, 0, 0, 0, 1, 0, 0, 0, 0,\n",
       "       0, 0, 0, 0, 1, 0, 0, 0, 0, 0, 0, 0, 0, 0, 0, 0, 0, 0, 0, 0, 0, 1,\n",
       "       0, 1, 0, 0, 0, 0, 0, 0, 0, 0, 0, 0, 0, 1, 0, 0, 0, 0, 0, 1, 0, 0,\n",
       "       0, 1, 0, 0, 0, 0, 0, 0, 0, 0, 0, 0, 0, 0, 0, 0, 0, 0, 1, 0, 0, 0,\n",
       "       0, 1, 0, 0, 0, 0, 0, 0, 0, 0, 0, 0, 0, 0, 0, 0, 0, 0, 0, 1, 0, 0,\n",
       "       0, 1, 0, 0, 0, 0, 0, 0, 0, 0, 0, 0, 0, 0, 0, 0, 0, 0, 0, 0, 0, 0,\n",
       "       0, 0, 0, 1, 0, 0, 0, 0, 0, 0, 1, 0, 0, 0, 0, 1, 0, 0, 0, 0, 1, 0,\n",
       "       0, 0, 0, 1, 0, 1, 1, 0, 0, 0, 0, 1, 0, 1, 0, 0, 0, 0, 0, 0, 0, 1,\n",
       "       1, 0, 0, 0, 0, 0, 1, 0, 0, 0, 0, 0, 0, 0, 0, 1, 0, 1, 0, 0, 0, 0,\n",
       "       0, 0, 0, 0, 0, 0, 0, 0, 0, 0, 0, 0, 0, 0, 1, 0, 0, 1, 0, 0, 0, 0,\n",
       "       0, 0, 0, 0, 0, 0, 0, 0, 0, 0, 1, 0, 0, 0, 1, 0, 0, 0, 0, 0, 0, 0,\n",
       "       0, 0, 1, 1, 0, 1, 0, 0, 0, 0, 0], dtype=int64)"
      ]
     },
     "execution_count": 399,
     "metadata": {},
     "output_type": "execute_result"
    }
   ],
   "source": [
    "best_knn.predict(df_test)"
   ]
  },
  {
   "cell_type": "markdown",
   "metadata": {},
   "source": [
    "I save the predictions to a CSV file."
   ]
  },
  {
   "cell_type": "code",
   "execution_count": 401,
   "metadata": {},
   "outputs": [],
   "source": [
    "# submission = best_knn.predict(df_test)\n",
    "# pd.DataFrame(submission).to_csv(\"classification_SS.csv\", header = None, index = None)"
   ]
  },
  {
   "cell_type": "markdown",
   "metadata": {},
   "source": [
    "# Expected results\n",
    "\n",
    "Expected value of **`balanced accuracy`: 88%**"
   ]
  },
  {
   "cell_type": "markdown",
   "metadata": {},
   "source": [
    "---"
   ]
  },
  {
   "cell_type": "markdown",
   "metadata": {},
   "source": [
    "RESULTS"
   ]
  },
  {
   "cell_type": "code",
   "execution_count": 5,
   "metadata": {},
   "outputs": [],
   "source": [
    "real = pd.read_csv(\"real.csv\")\n",
    "obtained = pd.read_csv(\"classification_SS.csv\")"
   ]
  },
  {
   "cell_type": "code",
   "execution_count": 12,
   "metadata": {},
   "outputs": [
    {
     "data": {
      "text/plain": [
       "0.6107954545454546"
      ]
     },
     "execution_count": 12,
     "metadata": {},
     "output_type": "execute_result"
    }
   ],
   "source": [
    "balanced_accuracy_score(real, obtained)"
   ]
  },
  {
   "cell_type": "code",
   "execution_count": 13,
   "metadata": {},
   "outputs": [],
   "source": [
    "from sklearn.metrics import confusion_matrix"
   ]
  },
  {
   "cell_type": "code",
   "execution_count": 14,
   "metadata": {},
   "outputs": [
    {
     "data": {
      "text/plain": [
       "array([[309,  43],\n",
       "       [ 21,  11]], dtype=int64)"
      ]
     },
     "execution_count": 14,
     "metadata": {},
     "output_type": "execute_result"
    }
   ],
   "source": [
    "confusion_matrix(real, obtained)"
   ]
  },
  {
   "cell_type": "code",
   "execution_count": null,
   "metadata": {},
   "outputs": [],
   "source": []
  }
 ],
 "metadata": {
  "authors": [
   {
    "name": "Szymon Socha"
   }
  ],
  "kernelspec": {
   "display_name": "Python 3",
   "language": "python",
   "name": "python3"
  },
  "language_info": {
   "codemirror_mode": {
    "name": "ipython",
    "version": 3
   },
   "file_extension": ".py",
   "mimetype": "text/x-python",
   "name": "python",
   "nbconvert_exporter": "python",
   "pygments_lexer": "ipython3",
   "version": "3.8.8"
  },
  "title": "Machine Learning 1 - Classification project"
 },
 "nbformat": 4,
 "nbformat_minor": 4
}
